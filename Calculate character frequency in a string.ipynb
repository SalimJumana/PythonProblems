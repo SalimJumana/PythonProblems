{
 "cells": [
  {
   "cell_type": "code",
   "execution_count": 0,
   "metadata": {
    "application/vnd.databricks.v1+cell": {
     "cellMetadata": {
      "byteLimit": 2048000,
      "rowLimit": 10000
     },
     "inputWidgets": {},
     "nuid": "763a3f14-2ebb-422c-8fc7-2b3b1a61b3c9",
     "showTitle": true,
     "title": "a) Simple FOR LOOP"
    }
   },
   "outputs": [
    {
     "output_type": "stream",
     "name": "stdout",
     "output_type": "stream",
     "text": [
      "{'T': 1, 'h': 3, 'e': 4, ' ': 7, 'l': 2, 'i': 3, 'o': 2, 'n': 3, 's': 1, 't': 2, 'k': 1, 'g': 2, 'f': 1, 'j': 1, 'u': 1}\n"
     ]
    }
   ],
   "source": [
    "# a) Simple FOR LOOP\n",
    "\n",
    "user_input = \"The lion is the king of the jungle\"\n",
    "counter_dict = dict()\n",
    "\n",
    "for char in user_input:\n",
    "    if char in counter_dict.keys():\n",
    "        counter_dict[char] += 1\n",
    "    else:\n",
    "        counter_dict[char] = 1\n",
    "\n",
    "print(counter_dict)"
   ]
  },
  {
   "cell_type": "code",
   "execution_count": 0,
   "metadata": {
    "application/vnd.databricks.v1+cell": {
     "cellMetadata": {},
     "inputWidgets": {},
     "nuid": "06f5eaeb-0cf5-4ca6-b0a4-fa26582e0740",
     "showTitle": true,
     "title": "b) Using count() method and set"
    }
   },
   "outputs": [],
   "source": [
    "# b) Using count() method and set\n",
    "\n",
    "user_input = \"The lion is the king of the jungle\"    # input(\"Provide a string ==> \")\n",
    "counter_dict = dict()\n",
    "\n",
    "char_set = set(user_input)\n",
    "\n",
    "for char in char_set:\n",
    "    counter_dict[char] = user_input.count(char)\n",
    "print(counter_dict)"
   ]
  },
  {
   "cell_type": "code",
   "execution_count": 0,
   "metadata": {
    "application/vnd.databricks.v1+cell": {
     "cellMetadata": {
      "byteLimit": 2048000,
      "rowLimit": 10000
     },
     "inputWidgets": {},
     "nuid": "d8080149-34df-49a7-9454-e18d3a563e99",
     "showTitle": true,
     "title": "c) Using collections library"
    }
   },
   "outputs": [
    {
     "output_type": "stream",
     "name": "stdout",
     "output_type": "stream",
     "text": [
      "Counter({' ': 7, 'e': 4, 'h': 3, 'i': 3, 'n': 3, 'l': 2, 'o': 2, 't': 2, 'g': 2, 'T': 1, 's': 1, 'k': 1, 'f': 1, 'j': 1, 'u': 1})\n"
     ]
    }
   ],
   "source": [
    "# c) Using collections library\n",
    "\n",
    "from collections import Counter\n",
    "\n",
    "user_input = \"The lion is the king of the jungle\"    # input(\"Provide a string ==> \")\n",
    "\n",
    "counter_dict = Counter(user_input)\n",
    "print(counter_dict)"
   ]
  },
  {
   "cell_type": "code",
   "execution_count": 0,
   "metadata": {
    "application/vnd.databricks.v1+cell": {
     "cellMetadata": {
      "byteLimit": 2048000,
      "rowLimit": 10000
     },
     "inputWidgets": {},
     "nuid": "9eb33883-002a-4c61-80ee-990c318a5254",
     "showTitle": true,
     "title": "d) Using dict.get() method"
    }
   },
   "outputs": [
    {
     "output_type": "stream",
     "name": "stdout",
     "output_type": "stream",
     "text": [
      "{'T': 1, 'h': 3, 'e': 4, ' ': 7, 'l': 2, 'i': 3, 'o': 2, 'n': 3, 's': 1, 't': 2, 'k': 1, 'g': 2, 'f': 1, 'j': 1, 'u': 1}\n"
     ]
    }
   ],
   "source": [
    "# d) Using dict.get() method\n",
    "\n",
    "# .get() method -> syntax : dictionary_name.get(key, default=None, /); \n",
    "# it's a builtin method and Return the value for key if key is in the dictionary, else default.\n",
    "\n",
    "user_input = \"The lion is the king of the jungle\"             # input(\"Provide a string ==> \")\n",
    "counter_dict = dict()\n",
    "\n",
    "for char in user_input:\n",
    "    counter_dict[char] = counter_dict.get(char, 0) + 1\n",
    "print(counter_dict)"
   ]
  }
 ],
 "metadata": {
  "application/vnd.databricks.v1+notebook": {
   "dashboards": [],
   "language": "python",
   "notebookMetadata": {
    "pythonIndentUnit": 4
   },
   "notebookName": "Calculate character frequency in a string",
   "widgets": {}
  }
 },
 "nbformat": 4,
 "nbformat_minor": 0
}
