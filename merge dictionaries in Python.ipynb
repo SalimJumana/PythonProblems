{
 "cells": [
  {
   "cell_type": "markdown",
   "metadata": {
    "application/vnd.databricks.v1+cell": {
     "cellMetadata": {
      "byteLimit": 2048000,
      "rowLimit": 10000
     },
     "inputWidgets": {},
     "nuid": "8f6024d3-fe2c-4826-b6b8-88f25d5be33e",
     "showTitle": false,
     "title": ""
    }
   },
   "source": [
    "Prerequisite knowledge\n",
    "\n",
    "--Python dictionary\n",
    "\n",
    "--*args vs **kwargs in Python"
   ]
  },
  {
   "cell_type": "markdown",
   "metadata": {
    "application/vnd.databricks.v1+cell": {
     "cellMetadata": {
      "byteLimit": 2048000,
      "rowLimit": 10000
     },
     "inputWidgets": {},
     "nuid": "88be57ca-cb5b-428a-9673-bb4e9a18bc03",
     "showTitle": false,
     "title": ""
    }
   },
   "source": [
    "# a) Using ** operator"
   ]
  },
  {
   "cell_type": "code",
   "execution_count": 0,
   "metadata": {
    "application/vnd.databricks.v1+cell": {
     "cellMetadata": {
      "byteLimit": 2048000,
      "rowLimit": 10000
     },
     "inputWidgets": {},
     "nuid": "80ca31db-6ae1-4eb7-b113-b8d057410fcf",
     "showTitle": false,
     "title": ""
    }
   },
   "outputs": [
    {
     "output_type": "stream",
     "name": "stdout",
     "output_type": "stream",
     "text": [
      "{'name': 'Pylenin', 'age': 29, 'city': 'Gurgaon'}\n"
     ]
    }
   ],
   "source": [
    "x = {\"name\":\"Pylenin\", \"age\":30}\n",
    "y = {\"city\":\"Gurgaon\", \"age\":29}\n",
    "\n",
    "print({**x, **y})"
   ]
  },
  {
   "cell_type": "markdown",
   "metadata": {
    "application/vnd.databricks.v1+cell": {
     "cellMetadata": {
      "byteLimit": 2048000,
      "rowLimit": 10000
     },
     "inputWidgets": {},
     "nuid": "b40c8616-c7a0-455d-99cf-62d8030a4441",
     "showTitle": false,
     "title": ""
    }
   },
   "source": [
    "# b) Using | operator\n",
    "**Note**:- The | operator can only be used in Python 3.9 and above."
   ]
  },
  {
   "cell_type": "code",
   "execution_count": 0,
   "metadata": {
    "application/vnd.databricks.v1+cell": {
     "cellMetadata": {
      "byteLimit": 2048000,
      "rowLimit": 10000
     },
     "inputWidgets": {},
     "nuid": "8e422648-1771-4bb4-8670-1062bd5ce90f",
     "showTitle": false,
     "title": ""
    }
   },
   "outputs": [
    {
     "output_type": "stream",
     "name": "stdout",
     "output_type": "stream",
     "text": [
      "{'name': 'Pylenin', 'age': 29, 'city': 'Gurgaon'}\n"
     ]
    }
   ],
   "source": [
    "x = {\"name\":\"Pylenin\", \"age\":30}\n",
    "y = {\"city\":\"Gurgaon\", \"age\":29}\n",
    "\n",
    "print(x|y)"
   ]
  },
  {
   "cell_type": "markdown",
   "metadata": {
    "application/vnd.databricks.v1+cell": {
     "cellMetadata": {
      "byteLimit": 2048000,
      "rowLimit": 10000
     },
     "inputWidgets": {},
     "nuid": "1a4f3d79-ffd3-4f27-a1b5-4f7a40d4279a",
     "showTitle": false,
     "title": ""
    }
   },
   "source": [
    "# c) Method 3 - Using update()\n",
    "By using update() in Python 3, one dictionary can be merged into another. **Note**:- This will change the original dictionary."
   ]
  },
  {
   "cell_type": "code",
   "execution_count": 0,
   "metadata": {
    "application/vnd.databricks.v1+cell": {
     "cellMetadata": {
      "byteLimit": 2048000,
      "rowLimit": 10000
     },
     "inputWidgets": {},
     "nuid": "43fedf98-bad6-46de-b1a6-e3efce10edd2",
     "showTitle": false,
     "title": ""
    }
   },
   "outputs": [
    {
     "output_type": "stream",
     "name": "stdout",
     "output_type": "stream",
     "text": [
      "{'name': 'Pylenin', 'age': 29, 'city': 'Gurgaon'}\n"
     ]
    }
   ],
   "source": [
    "x = {\"name\":\"Pylenin\", \"age\":30}\n",
    "y = {\"city\":\"Gurgaon\", \"age\":29}\n",
    "\n",
    "x.update(y)\n",
    "print(x)"
   ]
  },
  {
   "cell_type": "markdown",
   "metadata": {
    "application/vnd.databricks.v1+cell": {
     "cellMetadata": {
      "byteLimit": 2048000,
      "rowLimit": 10000
     },
     "inputWidgets": {},
     "nuid": "4cbb4de6-3be6-4508-b3d1-2388cfa692e9",
     "showTitle": false,
     "title": ""
    }
   },
   "source": [
    "# d) Unpack the second dictionary\n",
    "**This method only works if the keys of the second dictionary are strings.**\n",
    "\n",
    "Python will throw a TypeError if it encounters any integer value keys."
   ]
  },
  {
   "cell_type": "code",
   "execution_count": 0,
   "metadata": {
    "application/vnd.databricks.v1+cell": {
     "cellMetadata": {
      "byteLimit": 2048000,
      "rowLimit": 10000
     },
     "inputWidgets": {},
     "nuid": "25d7c81c-2d76-430e-a83d-59fbb8993244",
     "showTitle": false,
     "title": ""
    }
   },
   "outputs": [
    {
     "output_type": "stream",
     "name": "stdout",
     "output_type": "stream",
     "text": [
      "{'name': 'Pylenin', 'age': 29, 'city': 'Gurgaon'}\n"
     ]
    }
   ],
   "source": [
    "x = {\"name\":\"Pylenin\", \"age\":30}\n",
    "y = {\"city\":\"Gurgaon\", \"age\":29}\n",
    "\n",
    "z = dict(x, **y)\n",
    "print(z)"
   ]
  },
  {
   "cell_type": "markdown",
   "metadata": {
    "application/vnd.databricks.v1+cell": {
     "cellMetadata": {
      "byteLimit": 2048000,
      "rowLimit": 10000
     },
     "inputWidgets": {},
     "nuid": "53c4511e-68cd-45ec-b8f8-105852fc14a3",
     "showTitle": false,
     "title": ""
    }
   },
   "source": [
    "# e) Using collections library\n",
    "Use the **ChainMap** method in collections module to merge two dictionaries.\n",
    "\n",
    "**Note - If both the dictionaries contain the same keys, then the values from the first dictionary are fetched in the final output.**"
   ]
  },
  {
   "cell_type": "code",
   "execution_count": 0,
   "metadata": {
    "application/vnd.databricks.v1+cell": {
     "cellMetadata": {
      "byteLimit": 2048000,
      "rowLimit": 10000
     },
     "inputWidgets": {},
     "nuid": "a1b60a70-a5f7-4c70-be19-99bfbd4f8f2d",
     "showTitle": false,
     "title": ""
    }
   },
   "outputs": [
    {
     "output_type": "stream",
     "name": "stdout",
     "output_type": "stream",
     "text": [
      "{'city': 'Gurgaon', 'age': 30, 'name': 'Pylenin'}\n"
     ]
    }
   ],
   "source": [
    "from collections import ChainMap\n",
    "\n",
    "x = {\"name\":\"Pylenin\", \"age\":30}\n",
    "y = {\"city\":\"Gurgaon\", \"age\":29}\n",
    "\n",
    "z = ChainMap(x, y)\n",
    "print(dict(z))"
   ]
  }
 ],
 "metadata": {
  "application/vnd.databricks.v1+notebook": {
   "dashboards": [],
   "language": "python",
   "notebookMetadata": {
    "pythonIndentUnit": 4
   },
   "notebookName": "merge dictionaries in Python",
   "widgets": {}
  }
 },
 "nbformat": 4,
 "nbformat_minor": 0
}
