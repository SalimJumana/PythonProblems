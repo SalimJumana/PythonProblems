{
 "cells": [
  {
   "cell_type": "code",
   "execution_count": 0,
   "metadata": {
    "application/vnd.databricks.v1+cell": {
     "cellMetadata": {},
     "inputWidgets": {},
     "nuid": "c8db30d9-759c-43b8-a6ce-b1e8af5347de",
     "showTitle": false,
     "title": ""
    }
   },
   "outputs": [],
   "source": [
    "# casefold() works similar to lower(), but it's more effective and aggresive capability"
   ]
  },
  {
   "cell_type": "code",
   "execution_count": 0,
   "metadata": {
    "application/vnd.databricks.v1+cell": {
     "cellMetadata": {
      "byteLimit": 2048000,
      "rowLimit": 10000
     },
     "inputWidgets": {},
     "nuid": "f6238d66-b868-448c-b794-4933cf8a8659",
     "showTitle": false,
     "title": ""
    }
   },
   "outputs": [
    {
     "output_type": "stream",
     "name": "stdout",
     "output_type": "stream",
     "text": [
      "Evilolive is a palindrome.\nEvil olive is not a palindrome.\n"
     ]
    }
   ],
   "source": [
    "# 1) using LISTS and reverse()\n",
    "# convert string to a list (bcz list have a built in reverse() method) \n",
    "# then compare original string with new reversed string using (==)\n",
    "\n",
    "def is_palindrome(test_string):\n",
    "    new_str=list(test_string.casefold())\n",
    "    new_str.reverse()\n",
    "\n",
    "    if \"\".join(new_str)==test_string.casefold():\n",
    "        print(f\"{test_string} is a palindrome.\")\n",
    "    else:\n",
    "        print(f\"{test_string} is not a palindrome.\")        \n",
    "\n",
    "is_palindrome(\"Evilolive\")\n",
    "is_palindrome(\"Evil olive\") # it doesnot work well with sentences having space between words."
   ]
  },
  {
   "cell_type": "code",
   "execution_count": 0,
   "metadata": {
    "application/vnd.databricks.v1+cell": {
     "cellMetadata": {
      "byteLimit": 2048000,
      "rowLimit": 10000
     },
     "inputWidgets": {},
     "nuid": "3151486c-1717-458f-ab7e-cab368fcf2c3",
     "showTitle": false,
     "title": ""
    }
   },
   "outputs": [
    {
     "output_type": "stream",
     "name": "stdout",
     "output_type": "stream",
     "text": [
      "Apple  is not a palindrome.\nEvilolive is a palindrome.\nEvil olive is not a palindrome.\n"
     ]
    }
   ],
   "source": [
    "# 2) using a FOR loop and ENUMERATE()\n",
    "# strings are iterable, so we can check each character against another character one at a time using FOR loop.\n",
    "# enumerate() creates a tuple for each character in the given string, containing a counter and the current character.\n",
    "# these tuples will get collected in a enumerate object, which is what the FOR loop will iterate over.\n",
    "\n",
    "# here we will start enumerate counter from 1 (default is 0). if a non matching character is found, the loop will terminate.\n",
    "\n",
    "def is_palindrome(test_string):\n",
    "    \n",
    "    for index, letter in enumerate(test_string.casefold(), start=1):\n",
    "        if letter!=test_string[-index].casefold():\n",
    "            print(f\"{test_string} is not a palindrome.\")\n",
    "            break\n",
    "    else:\n",
    "        print(f\"{test_string} is a palindrome.\")\n",
    "# it's a FOR-ELSE LOOP (not IF-ELSE)                \n",
    "\n",
    "is_palindrome(\"Apple \")\n",
    "is_palindrome(\"Evilolive\")\n",
    "is_palindrome(\"Evil olive\")  # thsi again doesnot work well with sentences having space between words.\n"
   ]
  },
  {
   "cell_type": "code",
   "execution_count": 0,
   "metadata": {
    "application/vnd.databricks.v1+cell": {
     "cellMetadata": {},
     "inputWidgets": {},
     "nuid": "9548b3d1-ba26-43c6-a3f2-4490de684ea1",
     "showTitle": false,
     "title": ""
    }
   },
   "outputs": [],
   "source": [
    "# 3) using SLICES (described in previous code)"
   ]
  },
  {
   "cell_type": "code",
   "execution_count": 0,
   "metadata": {
    "application/vnd.databricks.v1+cell": {
     "cellMetadata": {},
     "inputWidgets": {},
     "nuid": "3dd64f5c-57fe-405c-93cc-19b2fb82b1f6",
     "showTitle": false,
     "title": ""
    }
   },
   "outputs": [],
   "source": [
    "# 4) Dealing with Sentences\n",
    "# firstly in sentences, get rid of all punctuation & spaces.\n",
    "# Python re module deals with regular epressions. sub() functions allows replacing a pattern with another string.\n",
    "# here we will replace non-letter characters with empty(\"\") string.\n",
    "# RegEx pattern [^a-z] matches no of characters that are not letters a to z."
   ]
  },
  {
   "cell_type": "code",
   "execution_count": 0,
   "metadata": {
    "application/vnd.databricks.v1+cell": {
     "cellMetadata": {
      "byteLimit": 2048000,
      "rowLimit": 10000
     },
     "inputWidgets": {},
     "nuid": "f42662b7-87e7-4b3c-99d6-05cba962180c",
     "showTitle": false,
     "title": ""
    }
   },
   "outputs": [
    {
     "output_type": "stream",
     "name": "stdout",
     "output_type": "stream",
     "text": [
      "NeVeR!_oDd!-Or!-eVEn! is a palindrome.\n"
     ]
    }
   ],
   "source": [
    "import re\n",
    "def is_palindrome(teststr):\n",
    "    letters_only=re.sub(\"[^a-z]+\",\"\",teststr.casefold())\n",
    "    if letters_only == letters_only[::-1]:\n",
    "        print(f\"{teststr} is a palindrome.\")\n",
    "    else:\n",
    "        print(f\"{teststr} is not a palindrome.\")\n",
    "\n",
    "is_palindrome(\"NeVeR!_oDd!-Or!-eVEn!\")"
   ]
  }
 ],
 "metadata": {
  "application/vnd.databricks.v1+notebook": {
   "dashboards": [],
   "language": "python",
   "notebookMetadata": {
    "pythonIndentUnit": 4
   },
   "notebookName": "check if a sentence is a palindrome",
   "widgets": {}
  }
 },
 "nbformat": 4,
 "nbformat_minor": 0
}
