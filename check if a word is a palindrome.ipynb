{
 "cells": [
  {
   "cell_type": "code",
   "execution_count": 0,
   "metadata": {
    "application/vnd.databricks.v1+cell": {
     "cellMetadata": {
      "byteLimit": 2048000,
      "rowLimit": 10000
     },
     "inputWidgets": {},
     "nuid": "6372df95-b72c-4cd4-91ff-5045b82d369d",
     "showTitle": false,
     "title": ""
    }
   },
   "outputs": [
    {
     "output_type": "display_data",
     "data": {
      "text/plain": [
       "\u001B[0;36m  File \u001B[0;32m<command-410319339318470>, line 2\u001B[0;36m\u001B[0m\n",
       "\u001B[0;31m    .strip() -  removes any whitespace to the left or right of a word/sentence\u001B[0m\n",
       "\u001B[0m    ^\u001B[0m\n",
       "\u001B[0;31mSyntaxError\u001B[0m\u001B[0;31m:\u001B[0m invalid syntax\n"
      ]
     },
     "metadata": {
      "application/vnd.databricks.v1+output": {
       "arguments": {},
       "data": "\u001B[0;36m  File \u001B[0;32m<command-410319339318470>, line 2\u001B[0;36m\u001B[0m\n\u001B[0;31m    .strip() -  removes any whitespace to the left or right of a word/sentence\u001B[0m\n\u001B[0m    ^\u001B[0m\n\u001B[0;31mSyntaxError\u001B[0m\u001B[0;31m:\u001B[0m invalid syntax\n",
       "errorSummary": "<span class='ansi-red-fg'>SyntaxError</span>: invalid syntax (command-410319339318470-1890696905, line 2)",
       "errorTraceType": "ansi",
       "metadata": {},
       "type": "ipynbError"
      }
     },
     "output_type": "display_data"
    }
   ],
   "source": [
    "#Palindrome is a string of characters that are identical whether read forwards or backwards\n",
    "# .strip() -  removes any whitespace to the left or right of a word/sentence\n",
    "# .lower() - converts string to lowercase\n",
    "# .casefold()"
   ]
  },
  {
   "cell_type": "code",
   "execution_count": 0,
   "metadata": {
    "application/vnd.databricks.v1+cell": {
     "cellMetadata": {
      "byteLimit": 2048000,
      "rowLimit": 10000
     },
     "inputWidgets": {},
     "nuid": "720c657e-4ed9-42e3-a17b-ae1fc5ef6c85",
     "showTitle": false,
     "title": ""
    }
   },
   "outputs": [
    {
     "output_type": "stream",
     "name": "stdout",
     "output_type": "stream",
     "text": [
      "False\nFalse\n"
     ]
    }
   ],
   "source": [
    "# 1) using list and reversed() function\n",
    "\n",
    "def is_palindrome(word):\n",
    "    word = word.strip().lower()\n",
    "    rev_word = reversed(word)\n",
    "    # to print a reversed object, we have to convert it to a list\n",
    "\n",
    "    if list(word) == list(rev_word):\n",
    "        print(True)\n",
    "    else:\n",
    "        print(False)\n",
    "is_palindrome(\"Apple \")     \n",
    "# is_palindrome(\"Evil olive\")   "
   ]
  },
  {
   "cell_type": "code",
   "execution_count": 0,
   "metadata": {
    "application/vnd.databricks.v1+cell": {
     "cellMetadata": {
      "byteLimit": 2048000,
      "rowLimit": 10000
     },
     "inputWidgets": {},
     "nuid": "d75b058e-29f8-4069-9d7b-993e74f3a457",
     "showTitle": false,
     "title": ""
    }
   },
   "outputs": [
    {
     "output_type": "stream",
     "name": "stdout",
     "output_type": "stream",
     "text": [
      "False\nFalse\na,l,l,e,r,b,m,U\nallerbmU\n"
     ]
    }
   ],
   "source": [
    "# 2) Join and reversed() function\n",
    "\n",
    "def is_palindrome(word):\n",
    "    word = word.strip().lower()\n",
    "    rev_word = reversed(word)\n",
    "    # join string will be kept empty(\"\") to avoid anything in between items in \"word\" in our new string\n",
    "    if word == \"\".join(rev_word):\n",
    "        print(True)\n",
    "    else:\n",
    "        print(False)\n",
    "\n",
    "is_palindrome(\"Apple \")\n",
    "# is_palindrome(\"Evil olive\")\n",
    "\n",
    "print(\",\".join(reversed(\"Umbrella\")))\n",
    "print(\"\".join(reversed(\"Umbrella\")))"
   ]
  },
  {
   "cell_type": "code",
   "execution_count": 0,
   "metadata": {
    "application/vnd.databricks.v1+cell": {
     "cellMetadata": {
      "byteLimit": 2048000,
      "rowLimit": 10000
     },
     "inputWidgets": {},
     "nuid": "b487722a-84b5-4b3b-a4f7-cc5be4f61c7c",
     "showTitle": false,
     "title": ""
    }
   },
   "outputs": [
    {
     "output_type": "stream",
     "name": "stdout",
     "output_type": "stream",
     "text": [
      "False\nTrue\n"
     ]
    }
   ],
   "source": [
    "# 3) using list and .reverse() method\n",
    "\n",
    "def is_palindrome_2(word):\n",
    "    word = list(word.strip().lower())\n",
    "    rev_word = list(word)\n",
    "    # rev_word = word.copy();   both of these ways create a copy list of the given word\n",
    "    rev_word.reverse()\n",
    "\n",
    "    if word == rev_word:\n",
    "        print(True)\n",
    "    else:\n",
    "        print(False)\n",
    "\n",
    "is_palindrome_2(\"Apple \")  \n",
    "is_palindrome_2(\"civic\")   \n",
    "# is_palindrome_2(\"Evil olive\")\n",
    "\n",
    "# reverse() method is a list method. Can't use for strings, tuples. \n",
    "# Also it performs in-place modification of the original sequence.\n",
    "# copy() method is also a list method."
   ]
  },
  {
   "cell_type": "code",
   "execution_count": 0,
   "metadata": {
    "application/vnd.databricks.v1+cell": {
     "cellMetadata": {
      "byteLimit": 2048000,
      "rowLimit": 10000
     },
     "inputWidgets": {},
     "nuid": "ad36f753-08a0-4b4c-99ff-c0185d3c4bf5",
     "showTitle": false,
     "title": ""
    }
   },
   "outputs": [
    {
     "output_type": "stream",
     "name": "stdout",
     "output_type": "stream",
     "text": [
      "False\nTrue\n"
     ]
    }
   ],
   "source": [
    "# 4) using slices\n",
    "\n",
    "def is_palindrome_2(word):\n",
    "    word = list(word.strip().lower())\n",
    "    \n",
    "# slices creates a new sequence containing all of original sequence elements. word[::-1]gives whole sequence in reverse order. No type conversions or join required.\n",
    "    if word == word[::-1]:\n",
    "        print(True)\n",
    "    else: print(False)\n",
    "        \n",
    "is_palindrome_2(\"Apple \")\n",
    "is_palindrome_2(\"Civic \")"
   ]
  },
  {
   "cell_type": "code",
   "execution_count": 0,
   "metadata": {
    "application/vnd.databricks.v1+cell": {
     "cellMetadata": {},
     "inputWidgets": {},
     "nuid": "f10f9870-4ad8-4ba5-b942-fb91f5eb75ad",
     "showTitle": false,
     "title": ""
    }
   },
   "outputs": [],
   "source": []
  }
 ],
 "metadata": {
  "application/vnd.databricks.v1+notebook": {
   "dashboards": [],
   "language": "python",
   "notebookMetadata": {
    "pythonIndentUnit": 4
   },
   "notebookName": "check if a word is a palindrome",
   "widgets": {}
  }
 },
 "nbformat": 4,
 "nbformat_minor": 0
}
