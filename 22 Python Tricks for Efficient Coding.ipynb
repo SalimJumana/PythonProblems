{
 "cells": [
  {
   "cell_type": "markdown",
   "metadata": {
    "application/vnd.databricks.v1+cell": {
     "cellMetadata": {},
     "inputWidgets": {},
     "nuid": "8009ef0d-acd3-4e7f-b76f-efe5bd0bedb7",
     "showTitle": false,
     "title": ""
    }
   },
   "source": [
    "**Lists**"
   ]
  },
  {
   "cell_type": "code",
   "execution_count": 0,
   "metadata": {
    "application/vnd.databricks.v1+cell": {
     "cellMetadata": {
      "byteLimit": 2048000,
      "rowLimit": 10000
     },
     "inputWidgets": {},
     "nuid": "d0e9476a-f09b-41f9-8a86-c564cae2e4d7",
     "showTitle": false,
     "title": ""
    }
   },
   "outputs": [
    {
     "output_type": "stream",
     "name": "stdout",
     "output_type": "stream",
     "text": [
      "[1, 2, 3, 4, 5, 6]\n['7', '8', '9', '10']\na e\nb f\nc g\nd h\n[8, 9]\n4\n"
     ]
    }
   ],
   "source": [
    "# Trick 1: Flatten the lists\n",
    "\n",
    "import itertools\n",
    "a = [[1, 2], [3, 4], [5, 6]]\n",
    "b = list(itertools.chain.from_iterable(a))\n",
    "print(b)\n",
    "# Output: [1, 2, 3, 4, 5, 6]\n",
    "\n",
    "# Trick 2: Reverse a list\n",
    "\n",
    "a=[\"10\",\"9\",\"8\",\"7\"]\n",
    "print(a[::-1])\n",
    "# Output: ['7', '8', '9', '10']\n",
    "\n",
    "# Trick 3: Combining different lists\n",
    "\n",
    "a=['a','b','c','d']\n",
    "b=['e','f','g','h']\n",
    "for x, y in zip(a, b):\n",
    "    print(x,y)\n",
    "\"\"\"Output:\n",
    "a e\n",
    "b f\n",
    "c g\n",
    "d h\"\"\"\n",
    "\n",
    "# Trick 4: Negative indexing lists\n",
    "\n",
    "a = [0, 1, 2, 3, 4, 5, 6, 7, 8, 9, 10]\n",
    "print(a[-3:-1])\n",
    "# Output: [8, 9]\n",
    "\n",
    "# Trick 5: Analyzing the most frequent on the list\n",
    "\n",
    "a = [1, 2, 3, 4, 2, 2, 3, 1, 4, 4, 4]\n",
    "print(max(set(a), key = a.count))\n",
    "# Output: 4"
   ]
  },
  {
   "cell_type": "markdown",
   "metadata": {
    "application/vnd.databricks.v1+cell": {
     "cellMetadata": {},
     "inputWidgets": {},
     "nuid": "8c767936-21d7-44ef-808a-35a0067a26d7",
     "showTitle": false,
     "title": ""
    }
   },
   "source": [
    "**Strings**\n"
   ]
  },
  {
   "cell_type": "code",
   "execution_count": 0,
   "metadata": {
    "application/vnd.databricks.v1+cell": {
     "cellMetadata": {
      "byteLimit": 2048000,
      "rowLimit": 10000
     },
     "inputWidgets": {},
     "nuid": "b99c7576-62f0-4b92-a389-2a2cd06afa84",
     "showTitle": false,
     "title": ""
    }
   },
   "outputs": [
    {
     "output_type": "stream",
     "name": "stdout",
     "output_type": "stream",
     "text": [
      "Reverse is:  nohtyp\n['Python', 'is', 'the', 'language', 'of', 'the', 'future']\nononon offoff\nI am not available\nTrue\nFalse\n"
     ]
    }
   ],
   "source": [
    "# Trick 6: Reversing the string\n",
    "\n",
    "a='python'\n",
    "print('Reverse is: ', a[::-1])\n",
    "\n",
    "# Trick 7: Splitting the string\n",
    "\n",
    "a=\"Python is the language of the future\"\n",
    "b=a.split()\n",
    "print(b)\n",
    "\n",
    "# Trick 8: Printing out multiple values of strings\n",
    "print('on'*3 +' '+ 'off'*2)\n",
    "\n",
    "# Trick 9: Creating a single string\n",
    "a = ['I', 'am', 'not', 'available']\n",
    "print(' '.join(a))\n",
    "\n",
    "# Trick 10: Checking if two words are anagrams\n",
    "from collections import Counter\n",
    "def is_anagram(str1, str2):\n",
    "    return Counter(str1) == Counter(str2)\n",
    "\n",
    "print(is_anagram('taste', 'state'))\n",
    "print(is_anagram('beach', 'peach'))\n"
   ]
  },
  {
   "cell_type": "markdown",
   "metadata": {
    "application/vnd.databricks.v1+cell": {
     "cellMetadata": {},
     "inputWidgets": {},
     "nuid": "22f8ec40-8e9e-45f0-a405-75429890aa9c",
     "showTitle": false,
     "title": ""
    }
   },
   "source": [
    "**Matrix and Operators**"
   ]
  },
  {
   "cell_type": "code",
   "execution_count": 0,
   "metadata": {
    "application/vnd.databricks.v1+cell": {
     "cellMetadata": {
      "byteLimit": 2048000,
      "rowLimit": 10000
     },
     "inputWidgets": {},
     "nuid": "208fc365-82c2-4bc2-ab2e-ea6187fd647c",
     "showTitle": false,
     "title": ""
    }
   },
   "outputs": [
    {
     "output_type": "stream",
     "name": "stdout",
     "output_type": "stream",
     "text": [
      "(8, 11)\n(9, 12)\n(10, 13)\nTrue\nTrue\nTrue\n"
     ]
    }
   ],
   "source": [
    "# Trick 11: Transposing a matrix\n",
    "\n",
    "mat = [[8, 9, 10], [11, 12, 13]]\n",
    "new_mat=zip(*mat)\n",
    "for row in new_mat:\n",
    "    print(row)\n",
    "\n",
    "# Trick 12: Chaining comparison operators\n",
    "a = 17\n",
    "b = 21\n",
    "c = 11\n",
    "print(c < a)\n",
    "print(a < b)\n",
    "print(c<b)"
   ]
  },
  {
   "cell_type": "markdown",
   "metadata": {
    "application/vnd.databricks.v1+cell": {
     "cellMetadata": {},
     "inputWidgets": {},
     "nuid": "5b3e0adf-6f68-461d-8543-1dfd1467d2e0",
     "showTitle": false,
     "title": ""
    }
   },
   "source": [
    "**Dictionary**"
   ]
  },
  {
   "cell_type": "code",
   "execution_count": 0,
   "metadata": {
    "application/vnd.databricks.v1+cell": {
     "cellMetadata": {
      "byteLimit": 2048000,
      "rowLimit": 10000
     },
     "inputWidgets": {},
     "nuid": "630c697f-c910-4e39-b2d2-dd52ff9065fc",
     "showTitle": false,
     "title": ""
    }
   },
   "outputs": [
    {
     "output_type": "stream",
     "name": "stdout",
     "output_type": "stream",
     "text": [
      "{1: 'a', 2: 'b', 3: 'c', 4: 'd', 5: 'e', 6: 'f', 7: 'g'}\na: 1\nb: 2\nc: 3\nd: 4\ne: 5\nf: 6\n{'a': 1, 'b': 3, 'c': 4}\n"
     ]
    }
   ],
   "source": [
    "# Trick 13: Inverting the Dictionary\n",
    "\n",
    "dict1={'a': 1, 'b': 2, 'c': 3, 'd': 4, 'e': 5, 'f': 6, 'g': 7}\n",
    "dict2={v: k for k, v in dict1.items()}\n",
    "print(dict2)\n",
    "\n",
    "# Trick 14: Iterating value pairs and dictionary keys\n",
    "\n",
    "dict1={'a': 1, 'b': 2, 'c': 3, 'd': 4, 'e': 5, 'f': 6}\n",
    "for a, b in dict1.items():\n",
    "    print ('{}: {}'.format(a,b))\n",
    "\n",
    "# Trick 15: Merging multiple dictionaries\n",
    "\n",
    "x = {'a': 1, 'b': 2}\n",
    "y = {'b': 3, 'c': 4}\n",
    "z = {**x, **y}\n",
    "print(z)\n",
    "# Output: {‘a’: 1, ‘b’: 3, ‘c’: 4}"
   ]
  },
  {
   "cell_type": "markdown",
   "metadata": {
    "application/vnd.databricks.v1+cell": {
     "cellMetadata": {},
     "inputWidgets": {},
     "nuid": "19e49e96-ea4e-4474-b187-59540bc64cb7",
     "showTitle": false,
     "title": ""
    }
   },
   "source": [
    "**Initialization**"
   ]
  },
  {
   "cell_type": "code",
   "execution_count": 0,
   "metadata": {
    "application/vnd.databricks.v1+cell": {
     "cellMetadata": {
      "byteLimit": 2048000,
      "rowLimit": 10000
     },
     "inputWidgets": {},
     "nuid": "c6ef2d86-775f-4a7f-b620-0f9458820ab9",
     "showTitle": false,
     "title": ""
    }
   },
   "outputs": [],
   "source": [
    "# Trick 16: Initializing empty spaces\n",
    "\n",
    "a_list = list()\n",
    "a_dict = dict()\n",
    "# a_map = map()\n",
    "a_set = set()\n",
    "\n",
    "# Trick 17: Initializing lists filled with numbers\n",
    "\n",
    "#listA contains 1000 1's\n",
    "listA=[1]*1000\n",
    "#listB contains 1000 2's\n",
    "listB=[2]*1000"
   ]
  },
  {
   "cell_type": "markdown",
   "metadata": {
    "application/vnd.databricks.v1+cell": {
     "cellMetadata": {},
     "inputWidgets": {},
     "nuid": "3b846020-6fa0-4e6d-92a0-4e2cfaa85384",
     "showTitle": false,
     "title": ""
    }
   },
   "source": [
    "**Miscellaneous**"
   ]
  },
  {
   "cell_type": "code",
   "execution_count": 0,
   "metadata": {
    "application/vnd.databricks.v1+cell": {
     "cellMetadata": {},
     "inputWidgets": {},
     "nuid": "bd0ff01b-19e1-4397-853c-dc28d8215a34",
     "showTitle": false,
     "title": ""
    }
   },
   "outputs": [],
   "source": [
    "# Trick 18: Checking and analyzing the memory unit of an object\n",
    "\n",
    "import sys\n",
    "a=10\n",
    "print(sys.getsizeof(a))\n",
    "# Output: 28\n",
    "\n",
    "# Trick 19: Swapping values\n",
    "\n",
    "x, y = 13, 26\n",
    "x, y = y, x\n",
    "print(x, y)"
   ]
  },
  {
   "cell_type": "markdown",
   "metadata": {
    "application/vnd.databricks.v1+cell": {
     "cellMetadata": {},
     "inputWidgets": {},
     "nuid": "3c27abd1-cb85-46b2-84c2-18d15bd23443",
     "showTitle": false,
     "title": ""
    }
   },
   "source": [
    "**Map functions**"
   ]
  },
  {
   "cell_type": "code",
   "execution_count": 0,
   "metadata": {
    "application/vnd.databricks.v1+cell": {
     "cellMetadata": {
      "byteLimit": 2048000,
      "rowLimit": 10000
     },
     "inputWidgets": {},
     "nuid": "7c2a843e-3f5b-466d-a57c-7fc1ae6a568f",
     "showTitle": false,
     "title": ""
    }
   },
   "outputs": [
    {
     "output_type": "display_data",
     "data": {
      "text/plain": [
       "enter numbers: 1 2 3 4 5 6 7"
      ]
     },
     "metadata": {},
     "output_type": "display_data"
    },
    {
     "output_type": "display_data",
     "data": {
      "text/plain": [
       "enter numbers: 1,234,5,6,789,33"
      ]
     },
     "metadata": {},
     "output_type": "display_data"
    },
    {
     "output_type": "stream",
     "name": "stdout",
     "output_type": "stream",
     "text": [
      "Out[26]: [1, 234, 5, 6, 789, 33]"
     ]
    }
   ],
   "source": [
    "# Trick 20: Implementing the map function\n",
    "\n",
    "# To get the input as a list of numbers, perform the following:\n",
    "# list(map (int, input().split()))\n",
    "\n",
    "# Note: Always use the input() function irrespective of the type of input and convert it using the map function.\n",
    "\n",
    "list(map(int, input(\"enter numbers:\").split()))\n",
    "# input : 1 2 3 4 5 6 7\n",
    "\n",
    "list(map (int, input(\"enter numbers:\").split(',')))\n",
    "# input: 1,234,5,6,789,33\n",
    "# output: [1, 234, 5, 6, 789, 33]"
   ]
  },
  {
   "cell_type": "markdown",
   "metadata": {
    "application/vnd.databricks.v1+cell": {
     "cellMetadata": {},
     "inputWidgets": {},
     "nuid": "5adc6a6f-0396-429d-999a-2cc705affaf9",
     "showTitle": false,
     "title": ""
    }
   },
   "source": [
    "**Collections module**"
   ]
  },
  {
   "cell_type": "code",
   "execution_count": 0,
   "metadata": {
    "application/vnd.databricks.v1+cell": {
     "cellMetadata": {
      "byteLimit": 2048000,
      "rowLimit": 10000
     },
     "inputWidgets": {},
     "nuid": "f3cf1e5a-6174-48de-9a1b-24ae05e58ba1",
     "showTitle": false,
     "title": ""
    }
   },
   "outputs": [
    {
     "output_type": "stream",
     "name": "stdout",
     "output_type": "stream",
     "text": [
      "[1, 2, 3, 4, 5, 6, 7, 8, 9]\n[1, 2, 3, 4, 5, 6, 7, 8, 9]\n[1, 2, 3, 4, 5, 6, 7, 8, 9, [5, 6, 7, 8, 9]]\n"
     ]
    }
   ],
   "source": [
    "# Trick 21: Merging different lists\n",
    "\n",
    "# The Collections module allows you to remove duplicates from a list. In Java, you have to use the HashMap to remove duplicate modules, but it’s far easier in the case of Python.\n",
    "\n",
    "print(list(set([1,2,3,4,3,4,5,6,7,8,9])))\n",
    "# [1, 2, 3, 4, 5, 6, 7, 8, 9]\n",
    "\n",
    "# extend() vs append() lists functions while merging multiple lists.\n",
    "a = [1, 2, 3, 4] # list 1\n",
    "b = [5, 6, 7, 8, 9] # list 2\n",
    "\n",
    "a.extend(b)    # will display one list.\n",
    "print(a)\n",
    "\n",
    "a.append(b)    # will display the list of list.\n",
    "print(a)\n",
    "# [1, 2, 3, 4 [5, 6, 7, 8, 9]]\n"
   ]
  },
  {
   "cell_type": "markdown",
   "metadata": {
    "application/vnd.databricks.v1+cell": {
     "cellMetadata": {},
     "inputWidgets": {},
     "nuid": "6033b62c-8106-4756-be76-874ac2e66327",
     "showTitle": false,
     "title": ""
    }
   },
   "source": [
    "**Language constructs**"
   ]
  },
  {
   "cell_type": "code",
   "execution_count": 0,
   "metadata": {
    "application/vnd.databricks.v1+cell": {
     "cellMetadata": {
      "byteLimit": 2048000,
      "rowLimit": 10000
     },
     "inputWidgets": {},
     "nuid": "bcd6bbc6-5896-457e-8a42-b8757b078777",
     "showTitle": false,
     "title": ""
    }
   },
   "outputs": [
    {
     "output_type": "stream",
     "name": "stdout",
     "output_type": "stream",
     "text": [
      "0\n1\n2\n3\n4\n5\n6\n7\n0\n1\n2\n3\n4\n5\n6\n7\n"
     ]
    }
   ],
   "source": [
    "# Trick 22: Writing code within functions\n",
    "\n",
    "# In Python, it is always better to write your code within functions.\n",
    "def main():\n",
    "    for i in range(2**3):\n",
    "        print(i)\n",
    "\n",
    "main()\n",
    "\n",
    "# The above code fragment is better than the one below:\n",
    "for x in range(2**3):\n",
    "    print(x)\n",
    "\n",
    "# The CPython implementation saves time in the case of storing local variables."
   ]
  },
  {
   "cell_type": "markdown",
   "metadata": {
    "application/vnd.databricks.v1+cell": {
     "cellMetadata": {},
     "inputWidgets": {},
     "nuid": "253d8844-23ef-4779-98c2-748c80fc00eb",
     "showTitle": false,
     "title": ""
    }
   },
   "source": [
    "** Bonus tip **\\\n",
    "**Strings concatenation**"
   ]
  },
  {
   "cell_type": "code",
   "execution_count": 0,
   "metadata": {
    "application/vnd.databricks.v1+cell": {
     "cellMetadata": {
      "byteLimit": 2048000,
      "rowLimit": 10000
     },
     "inputWidgets": {},
     "nuid": "96246f52-accc-4a06-bbb6-bf7a8412642d",
     "showTitle": false,
     "title": ""
    }
   },
   "outputs": [
    {
     "output_type": "stream",
     "name": "stdout",
     "output_type": "stream",
     "text": [
      "Welcome To Bonus Tips \nWelcome To Bonus Tips \n"
     ]
    }
   ],
   "source": [
    "str1 = \"\"\n",
    "some_list = [\"Welcome \", \"To \", \"Bonus \", \"Tips \"]\n",
    "print(str1.join(some_list))\n",
    "\n",
    "# Use the above code instead of:\n",
    "str1 = \"\"\n",
    "some_list = [\"Welcome \", \"To \", \"Bonus \", \"Tips \"]\n",
    "for x in some_list:\n",
    "    str1 += x\n",
    "print(str1)"
   ]
  }
 ],
 "metadata": {
  "application/vnd.databricks.v1+notebook": {
   "dashboards": [],
   "language": "python",
   "notebookMetadata": {
    "pythonIndentUnit": 4
   },
   "notebookName": "22 Python Tricks for Efficient Coding",
   "widgets": {}
  }
 },
 "nbformat": 4,
 "nbformat_minor": 0
}
