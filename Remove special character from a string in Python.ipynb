{
 "cells": [
  {
   "cell_type": "markdown",
   "metadata": {
    "application/vnd.databricks.v1+cell": {
     "cellMetadata": {},
     "inputWidgets": {},
     "nuid": "a3f2466e-2753-417f-ae2e-b2a47d9163e3",
     "showTitle": false,
     "title": ""
    }
   },
   "source": [
    "## 1. Using re (regular expression) module\n"
   ]
  },
  {
   "cell_type": "code",
   "execution_count": 0,
   "metadata": {
    "application/vnd.databricks.v1+cell": {
     "cellMetadata": {
      "byteLimit": 2048000,
      "rowLimit": 10000
     },
     "inputWidgets": {},
     "nuid": "be90c422-81c4-4381-8009-8a627ddfafc5",
     "showTitle": false,
     "title": ""
    }
   },
   "outputs": [
    {
     "output_type": "stream",
     "name": "stdout",
     "output_type": "stream",
     "text": [
      "speci87al\n"
     ]
    }
   ],
   "source": [
    "import re\n",
    "\n",
    "input_string = 'spe@#$ci87al*&'\n",
    "\n",
    "result_string = re.sub(r'[^a-zA-Z0-9]', '', input_string)\n",
    "print(result_string)"
   ]
  },
  {
   "cell_type": "markdown",
   "metadata": {
    "application/vnd.databricks.v1+cell": {
     "cellMetadata": {},
     "inputWidgets": {},
     "nuid": "a22fca45-c35f-4805-a86a-7c97b338b7ba",
     "showTitle": false,
     "title": ""
    }
   },
   "source": [
    "## 2. Using string module"
   ]
  },
  {
   "cell_type": "code",
   "execution_count": 0,
   "metadata": {
    "application/vnd.databricks.v1+cell": {
     "cellMetadata": {
      "byteLimit": 2048000,
      "rowLimit": 10000
     },
     "inputWidgets": {},
     "nuid": "6acb58f5-b227-4101-9d33-cc40b65a0e70",
     "showTitle": false,
     "title": ""
    }
   },
   "outputs": [
    {
     "output_type": "stream",
     "name": "stdout",
     "output_type": "stream",
     "text": [
      "speci87al\n"
     ]
    }
   ],
   "source": [
    "import string\n",
    "\n",
    "acceptable_chars = string.ascii_letters+string.digits\n",
    "\n",
    "result_string = \"\".join([i for i in input_string if i in acceptable_chars])\n",
    "print(result_string)"
   ]
  },
  {
   "cell_type": "markdown",
   "metadata": {
    "application/vnd.databricks.v1+cell": {
     "cellMetadata": {},
     "inputWidgets": {},
     "nuid": "47868d64-247e-4509-b6e2-867dbd53d809",
     "showTitle": false,
     "title": ""
    }
   },
   "source": [
    "## 3. Iterate through each character and keep only alphanumeric characters\n"
   ]
  },
  {
   "cell_type": "code",
   "execution_count": 0,
   "metadata": {
    "application/vnd.databricks.v1+cell": {
     "cellMetadata": {
      "byteLimit": 2048000,
      "rowLimit": 10000
     },
     "inputWidgets": {},
     "nuid": "96404010-bf07-4ddd-9ffc-ce1ebdb903c7",
     "showTitle": false,
     "title": ""
    }
   },
   "outputs": [
    {
     "output_type": "stream",
     "name": "stdout",
     "output_type": "stream",
     "text": [
      "speci87al\n"
     ]
    }
   ],
   "source": [
    "# using .isalum() method\n",
    "result_string = ''.join(char for char in input_string if char.isalnum())\n",
    "print(result_string)"
   ]
  },
  {
   "cell_type": "markdown",
   "metadata": {
    "application/vnd.databricks.v1+cell": {
     "cellMetadata": {},
     "inputWidgets": {},
     "nuid": "c9782559-59aa-43c8-ab32-a6a77d5296a3",
     "showTitle": false,
     "title": ""
    }
   },
   "source": [
    "## 4. Using filter() function in python "
   ]
  },
  {
   "cell_type": "code",
   "execution_count": 0,
   "metadata": {
    "application/vnd.databricks.v1+cell": {
     "cellMetadata": {
      "byteLimit": 2048000,
      "rowLimit": 10000
     },
     "inputWidgets": {},
     "nuid": "c963ac9d-d248-49d4-b41a-febf586aa8d5",
     "showTitle": false,
     "title": ""
    }
   },
   "outputs": [
    {
     "output_type": "stream",
     "name": "stdout",
     "output_type": "stream",
     "text": [
      "speci87al\n"
     ]
    }
   ],
   "source": [
    "result_string = ''.join(filter(str.isalnum, input_string))\n",
    "print(result_string)"
   ]
  }
 ],
 "metadata": {
  "application/vnd.databricks.v1+notebook": {
   "dashboards": [],
   "language": "python",
   "notebookMetadata": {
    "pythonIndentUnit": 4
   },
   "notebookName": "Remove special character from a string in Python",
   "widgets": {}
  }
 },
 "nbformat": 4,
 "nbformat_minor": 0
}
