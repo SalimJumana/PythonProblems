{
 "cells": [
  {
   "cell_type": "markdown",
   "metadata": {
    "application/vnd.databricks.v1+cell": {
     "cellMetadata": {},
     "inputWidgets": {},
     "nuid": "5c45c751-b2aa-4a0a-bf09-953ba195d8ee",
     "showTitle": false,
     "title": ""
    }
   },
   "source": [
    "# Content list\n",
    "1. Calculate the Length of a String\n",
    "2. Add Two Numbers\n",
    "3. Replace all Occurences of the First Character in a String.\n",
    "4. Checking for Membership\n",
    "5. Find the highest common factor(HCF) or greatest common divisor(GCD) of 2 numbers\n",
    "6. Find the Area of a Triangle\n",
    "7. Concatenate the FIRST and LAST n characters of a string\n",
    "8. Python program to print over the same line\n",
    "9. Print Pyramid Patterns\n",
    "10. Convert Bytes to String\n",
    "11. Count Occurrences of an Element in a List\n",
    "12. Find Square Root of both Integer and Complex numbers\n",
    "13. Convert Degrees to Radians and vice versa\n",
    "14. Check if a Number is Odd or Even\n",
    "15. Remove Consecutive Duplicates from a List\n",
    "16. Remove Duplicates from a list \n",
    "17. Find Duplicate Characters in a Python String\n",
    "18. Remove Duplicate characters from a String\n",
    "19. Extract INT type values from a list of heterogeneous elements\n",
    "20. Find The Second Most Repeated Word in a Given String\n",
    "21. Find First Non-Repeating Character in a String\n",
    "22. Return the N largest or smallest elements using the heapq module\n",
    "23. Find the No of Ways to Express a Natural No N as a Sum of two or more Consecutive Natural Nos"
   ]
  },
  {
   "cell_type": "markdown",
   "metadata": {
    "application/vnd.databricks.v1+cell": {
     "cellMetadata": {},
     "inputWidgets": {},
     "nuid": "d169ade4-dabd-4740-90ad-164f7d372c13",
     "showTitle": false,
     "title": ""
    }
   },
   "source": [
    "# 1) CALCULATE THE LENGTH OF A STRING"
   ]
  },
  {
   "cell_type": "code",
   "execution_count": 0,
   "metadata": {
    "application/vnd.databricks.v1+cell": {
     "cellMetadata": {
      "byteLimit": 2048000,
      "rowLimit": 10000
     },
     "inputWidgets": {},
     "nuid": "d09e4fea-2cbd-4845-a955-fe7aacb55879",
     "showTitle": false,
     "title": ""
    }
   },
   "outputs": [
    {
     "output_type": "display_data",
     "data": {
      "text/plain": [
       "Provide a string ==>  hello friend"
      ]
     },
     "metadata": {},
     "output_type": "display_data"
    },
    {
     "output_type": "stream",
     "name": "stdout",
     "output_type": "stream",
     "text": [
      "Length of 'hello friend' is 12\n"
     ]
    },
    {
     "output_type": "display_data",
     "data": {
      "text/plain": [
       "Provide a string ==>  python methods"
      ]
     },
     "metadata": {},
     "output_type": "display_data"
    },
    {
     "output_type": "stream",
     "name": "stdout",
     "output_type": "stream",
     "text": [
      "Length of 'python methods' is 14\n"
     ]
    }
   ],
   "source": [
    "# 1) CALCULATE THE LENGTH OF A STRING\n",
    "# 1a) using FOR loop\n",
    "user_input = input(\"Provide a string ==> \")\n",
    "length = 0\n",
    "for char in user_input:\n",
    "    length += 1\n",
    "print(f\"Length of '{user_input}' is {length}\")\n",
    "\n",
    "\"\"\"//////////////////////////////////////////////////////////////\"\"\"\n",
    "\n",
    "# 1b) Using len() built-in function\n",
    "\n",
    "user_input2 = input(\"Provide a string ==> \")\n",
    "print(f\"Length of '{user_input2}' is {len(user_input2)}\")"
   ]
  },
  {
   "cell_type": "markdown",
   "metadata": {
    "application/vnd.databricks.v1+cell": {
     "cellMetadata": {},
     "inputWidgets": {},
     "nuid": "6bf83d2a-229c-4e5c-a525-0215db6b9406",
     "showTitle": false,
     "title": ""
    }
   },
   "source": [
    "# 2) ADD TWO NUMBERS"
   ]
  },
  {
   "cell_type": "code",
   "execution_count": 0,
   "metadata": {
    "application/vnd.databricks.v1+cell": {
     "cellMetadata": {
      "byteLimit": 2048000,
      "rowLimit": 10000
     },
     "inputWidgets": {},
     "nuid": "25484d45-d638-4b12-97e0-56d68676e6f7",
     "showTitle": false,
     "title": ""
    }
   },
   "outputs": [
    {
     "output_type": "stream",
     "name": "stdout",
     "output_type": "stream",
     "text": [
      "Sum of 10 and 5 is 15\n"
     ]
    },
    {
     "output_type": "display_data",
     "data": {
      "text/plain": [
       "Enter first number:  11"
      ]
     },
     "metadata": {},
     "output_type": "display_data"
    },
    {
     "output_type": "display_data",
     "data": {
      "text/plain": [
       "Enter second number:  2"
      ]
     },
     "metadata": {},
     "output_type": "display_data"
    },
    {
     "output_type": "stream",
     "name": "stdout",
     "output_type": "stream",
     "text": [
      "The sum of 11 and 2 is 13.0\n"
     ]
    }
   ],
   "source": [
    "# 2) ADD TWO NUMBERS\n",
    "\n",
    "# 2a) Simple addition\n",
    "\n",
    "num1 = 10\n",
    "num2 = 5\n",
    "  \n",
    "# Adding both numbers \n",
    "sum = num1 + num2 \n",
    "  \n",
    "# printing values \n",
    "print(f\"Sum of {num1} and {num2} is {sum}\") \n",
    "\n",
    "# 2b) Adding two number provided by user input\n",
    "\n",
    "num1 = input(\"Enter first number: \")\n",
    "num2 = input(\"Enter second number: \")\n",
    "\n",
    "# converting user input (that's read as string) to float\n",
    "sum = float(num1) + float(num2)\n",
    "\n",
    "# We get a float value\n",
    "print(f\"The sum of {num1} and {num2} is {sum}\")\n"
   ]
  },
  {
   "cell_type": "markdown",
   "metadata": {
    "application/vnd.databricks.v1+cell": {
     "cellMetadata": {},
     "inputWidgets": {},
     "nuid": "3917d763-7a81-4c11-a70a-785a9f600218",
     "showTitle": false,
     "title": ""
    }
   },
   "source": [
    "# 3) REPLACE ALL OCCURRENCES OF THE FIRST CHARACTER IN A STRING\n",
    "Example 1\n",
    "str = \"Pylenin\"\n",
    "str_replace = \"$\"\n",
    "Output ==> \"$ylenin\"\n",
    "\n",
    "Example 2\n",
    "str = \"Pylenin loves Python\"\n",
    "str_replace = \"$\"\n",
    "Output ==> \"$ylenin loves $ython\"\n"
   ]
  },
  {
   "cell_type": "markdown",
   "metadata": {
    "application/vnd.databricks.v1+cell": {
     "cellMetadata": {},
     "inputWidgets": {},
     "nuid": "c101851f-79f6-45c6-8e23-c67d3ca4b66b",
     "showTitle": false,
     "title": ""
    }
   },
   "source": [
    "# 3a) Using IF-ELSE"
   ]
  },
  {
   "cell_type": "code",
   "execution_count": 0,
   "metadata": {
    "application/vnd.databricks.v1+cell": {
     "cellMetadata": {
      "byteLimit": 2048000,
      "rowLimit": 10000
     },
     "inputWidgets": {},
     "nuid": "ed78a44e-c029-4cfd-9882-8a4d7f372d40",
     "showTitle": false,
     "title": ""
    }
   },
   "outputs": [
    {
     "output_type": "display_data",
     "data": {
      "text/plain": [
       "Provide a string ==>  where is the whale?"
      ]
     },
     "metadata": {},
     "output_type": "display_data"
    },
    {
     "output_type": "display_data",
     "data": {
      "text/plain": [
       "Provide the replacement character ==>  $"
      ]
     },
     "metadata": {},
     "output_type": "display_data"
    },
    {
     "output_type": "stream",
     "name": "stdout",
     "output_type": "stream",
     "text": [
      "$here is the $hale?\n"
     ]
    }
   ],
   "source": [
    "# 3a) Using IF-ELSE\n",
    "\n",
    "user_input = input(\"Provide a string ==> \")\n",
    "str_replace = input(\"Provide the replacement character ==> \")\n",
    "\n",
    "if len(user_input) == 0:\n",
    "    print(\"Nothing was passed\")\n",
    "    exit()\n",
    "    \n",
    "first_char = user_input[0]\n",
    "new_string = \"\"\n",
    "for char in user_input:\n",
    "    if char == first_char:\n",
    "        new_string += str_replace\n",
    "    else:\n",
    "        new_string += char\n",
    "print(new_string)\n"
   ]
  },
  {
   "cell_type": "markdown",
   "metadata": {
    "application/vnd.databricks.v1+cell": {
     "cellMetadata": {},
     "inputWidgets": {},
     "nuid": "58686b1a-4a33-4526-a1cd-f3af4ca75a66",
     "showTitle": false,
     "title": ""
    }
   },
   "source": [
    "# 3b) Using STRING.REPLACE() method"
   ]
  },
  {
   "cell_type": "code",
   "execution_count": 0,
   "metadata": {
    "application/vnd.databricks.v1+cell": {
     "cellMetadata": {
      "byteLimit": 2048000,
      "rowLimit": 10000
     },
     "inputWidgets": {},
     "nuid": "b196cd86-caa1-4f21-b568-beadbc86369b",
     "showTitle": false,
     "title": ""
    }
   },
   "outputs": [
    {
     "output_type": "display_data",
     "data": {
      "text/plain": [
       "Provide a string ==>  lion is the king of the jungle."
      ]
     },
     "metadata": {},
     "output_type": "display_data"
    },
    {
     "output_type": "display_data",
     "data": {
      "text/plain": [
       "Provide the replacement character ==>  %"
      ]
     },
     "metadata": {},
     "output_type": "display_data"
    },
    {
     "output_type": "stream",
     "name": "stdout",
     "output_type": "stream",
     "text": [
      "%ion is the king of the jung%e.\n"
     ]
    }
   ],
   "source": [
    "# 3b) Using STRING.REPLACE() method\n",
    "\n",
    "user_input = input(\"Provide a string ==> \")\n",
    "str_replace = input(\"Provide the replacement character ==> \")\n",
    "\n",
    "if len(user_input) == 0:\n",
    "    print(\"Nothing was passed\")\n",
    "    exit()\n",
    "\n",
    "first_char = user_input[0]\n",
    "print(user_input.replace(first_char, str_replace))\n"
   ]
  },
  {
   "cell_type": "markdown",
   "metadata": {
    "application/vnd.databricks.v1+cell": {
     "cellMetadata": {},
     "inputWidgets": {},
     "nuid": "7ed1ddaa-0a07-4d76-a4e8-f6a3d3675ea5",
     "showTitle": false,
     "title": ""
    }
   },
   "source": [
    "# 4) CHECKING for MEMBERSHIP"
   ]
  },
  {
   "cell_type": "code",
   "execution_count": 0,
   "metadata": {
    "application/vnd.databricks.v1+cell": {
     "cellMetadata": {
      "byteLimit": 2048000,
      "rowLimit": 10000
     },
     "inputWidgets": {},
     "nuid": "3bb2c8f4-846f-457a-b861-a3b13f3e3355",
     "showTitle": false,
     "title": ""
    }
   },
   "outputs": [
    {
     "output_type": "stream",
     "name": "stdout",
     "output_type": "stream",
     "text": [
      "True\nTrue\nTrue\nFalse\nTrue\nTrue\n"
     ]
    }
   ],
   "source": [
    "# 4) CHECKING for MEMBERSHIP\n",
    "\n",
    "# we can check whether an element is part of a collection (includes SETs, LISTs, TUPLEs, DICTIONARY KEYs)\n",
    "# using the \"IN\" keyword. OUTPUT format : BOOLEAN\n",
    "\n",
    "numbers = {22,24,16,19,56,89}  # set\n",
    "listnew=[22,'apple',34.78, 'BANANA']     # list\n",
    "dictnew={'str1':'hero','num':34, 'notint':34.67}    # dictionary\n",
    "tupnew=(33,89.89, 'hellotuple')     # tuple\n",
    "\n",
    "print('n' in  'Python')       # string\n",
    "print(24 in numbers)\n",
    "print(33 in tupnew)\n",
    "print('hero' in dictnew)    # gives FALSE, as it doesnot account for dictionary values; Only keys\n",
    "print('str1' in dictnew)\n",
    "print(22 in listnew)"
   ]
  },
  {
   "cell_type": "markdown",
   "metadata": {
    "application/vnd.databricks.v1+cell": {
     "cellMetadata": {},
     "inputWidgets": {},
     "nuid": "5ff8b8c1-6e38-4c18-9f46-93c16570cd92",
     "showTitle": false,
     "title": ""
    }
   },
   "source": [
    "# 5) Find the highest common factor(HCF) or greatest common divisor(GCD) of 2 numbers\n",
    "# Using FOR loops"
   ]
  },
  {
   "cell_type": "code",
   "execution_count": 0,
   "metadata": {
    "application/vnd.databricks.v1+cell": {
     "cellMetadata": {
      "byteLimit": 2048000,
      "rowLimit": 10000
     },
     "inputWidgets": {},
     "nuid": "a4b807bf-4491-40ff-8806-b06eab380f97",
     "showTitle": false,
     "title": ""
    }
   },
   "outputs": [
    {
     "output_type": "display_data",
     "data": {
      "text/plain": [
       "give num1: 8"
      ]
     },
     "metadata": {},
     "output_type": "display_data"
    },
    {
     "output_type": "display_data",
     "data": {
      "text/plain": [
       "give num2: 90"
      ]
     },
     "metadata": {},
     "output_type": "display_data"
    },
    {
     "output_type": "stream",
     "name": "stdout",
     "output_type": "stream",
     "text": [
      "[1, 2, 4, 8]\n2\n"
     ]
    }
   ],
   "source": [
    "num1 = int(input(\"give num1:\"))\n",
    "num2 = int(input(\"give num2:\"))\n",
    "\n",
    "smallest_num = min(num1, num2)\n",
    "largest_number = max(num1, num2)\n",
    "factors = []\n",
    "hcf = None\n",
    "\n",
    "for i in range(1, smallest_num+1):\n",
    "    if smallest_num%i == 0:\n",
    "        factors.append(i)\n",
    "        \n",
    "print(factors) # This should be in ascending order\n",
    "\n",
    "for factor in factors:\n",
    "    if largest_number%factor == 0:\n",
    "        # Keep re-assigning the variable with bigger factor\n",
    "        hcf = factor\n",
    "\n",
    "print(hcf)"
   ]
  },
  {
   "cell_type": "markdown",
   "metadata": {
    "application/vnd.databricks.v1+cell": {
     "cellMetadata": {},
     "inputWidgets": {},
     "nuid": "1a2196d9-cc42-4d19-8104-47109bcf315b",
     "showTitle": false,
     "title": ""
    }
   },
   "source": [
    "# 6) Find the Area of a Triangle"
   ]
  },
  {
   "cell_type": "code",
   "execution_count": 0,
   "metadata": {
    "application/vnd.databricks.v1+cell": {
     "cellMetadata": {
      "byteLimit": 2048000,
      "rowLimit": 10000
     },
     "inputWidgets": {},
     "nuid": "8595411e-12e4-44c3-b65f-5dd1df4b518a",
     "showTitle": false,
     "title": ""
    }
   },
   "outputs": [
    {
     "output_type": "display_data",
     "data": {
      "text/plain": [
       "Enter 1st side:  11"
      ]
     },
     "metadata": {},
     "output_type": "display_data"
    },
    {
     "output_type": "display_data",
     "data": {
      "text/plain": [
       "Enter 2nd side:  12"
      ]
     },
     "metadata": {},
     "output_type": "display_data"
    },
    {
     "output_type": "display_data",
     "data": {
      "text/plain": [
       "Enter 3rd side:  13"
      ]
     },
     "metadata": {},
     "output_type": "display_data"
    },
    {
     "output_type": "stream",
     "name": "stdout",
     "output_type": "stream",
     "text": [
      "The area of our triangle is 61.48\n"
     ]
    }
   ],
   "source": [
    "a = float(input('Enter 1st side: '))\n",
    "b = float(input('Enter 2nd side: '))\n",
    "c = float(input('Enter 3rd side: '))\n",
    "\n",
    "# calculate the semi-perimeter\n",
    "s = (a + b + c) / 2\n",
    "\n",
    "# calculate the area\n",
    "area = (s*(s-a)*(s-b)*(s-c)) ** 0.5                \n",
    "# this is area of a triangle using Heron's formula\n",
    "# (**0.5) generates square root of the expression in braces\n",
    "\n",
    "print('The area of our triangle is %0.2f' %area)"
   ]
  },
  {
   "cell_type": "markdown",
   "metadata": {
    "application/vnd.databricks.v1+cell": {
     "cellMetadata": {},
     "inputWidgets": {},
     "nuid": "263cb52a-f894-42ee-b902-97f0f05d847e",
     "showTitle": false,
     "title": ""
    }
   },
   "source": [
    "# 7) Concatenate the FIRST and LAST n characters of a string\n",
    "\n",
    "Write a Python program to get a string made of the first n and the last n characters from a given string. If the string length is less than n, return an empty string."
   ]
  },
  {
   "cell_type": "code",
   "execution_count": 0,
   "metadata": {
    "application/vnd.databricks.v1+cell": {
     "cellMetadata": {
      "byteLimit": 2048000,
      "rowLimit": 10000
     },
     "inputWidgets": {},
     "nuid": "0adbbb76-dd5f-4a8b-a7af-be9241f3d07f",
     "showTitle": false,
     "title": ""
    }
   },
   "outputs": [
    {
     "output_type": "display_data",
     "data": {
      "text/plain": [
       "Provide a string ==>  Who loves Python"
      ]
     },
     "metadata": {},
     "output_type": "display_data"
    },
    {
     "output_type": "display_data",
     "data": {
      "text/plain": [
       "Provide the value of n ==>  3"
      ]
     },
     "metadata": {},
     "output_type": "display_data"
    },
    {
     "output_type": "stream",
     "name": "stdout",
     "output_type": "stream",
     "text": [
      "Whonoh\nWhohon\n"
     ]
    }
   ],
   "source": [
    "\n",
    "user_input = input(\"Provide a string ==> \")    # Who loves Python\n",
    "n = int(input(\"Provide the value of n ==> \"))   # 3\n",
    "\n",
    "if len(user_input) < n:\n",
    "    print(\"\")\n",
    "else:\n",
    "    print(user_input[:n] + user_input[:-n-1:-1])   #  Whonoh   (Who-noh)\n",
    "    print(user_input[:n] + user_input[-n:])        #  Whohon   (Who-hon)"
   ]
  },
  {
   "cell_type": "markdown",
   "metadata": {
    "application/vnd.databricks.v1+cell": {
     "cellMetadata": {},
     "inputWidgets": {},
     "nuid": "f2594a7a-8802-4907-a621-3b1c96c368ca",
     "showTitle": false,
     "title": ""
    }
   },
   "source": [
    "# 8) Python program to print over the same line"
   ]
  },
  {
   "cell_type": "code",
   "execution_count": 0,
   "metadata": {
    "application/vnd.databricks.v1+cell": {
     "cellMetadata": {
      "byteLimit": 2048000,
      "rowLimit": 10000
     },
     "inputWidgets": {},
     "nuid": "ae504555-e223-481c-b05b-a6abda40c5d4",
     "showTitle": false,
     "title": ""
    }
   },
   "outputs": [
    {
     "output_type": "stream",
     "name": "stdout",
     "output_type": "stream",
     "text": [
      "Welcome to Python Bootcamp 2021 "
     ]
    }
   ],
   "source": [
    "end=\"\\n\"   # this is the default value of 'end' argument in print() function  \n",
    "# it prints the string in newline.\n",
    "end=\"\"\n",
    "print(\"Welcome\",end=\" \")\n",
    "print(\"to\",end=\" \")\n",
    "print(\"Python\",end=\" \")\n",
    "print(\"Bootcamp\",end=\" \")\n",
    "print(\"2021\",end=\" \")\n"
   ]
  },
  {
   "cell_type": "code",
   "execution_count": 0,
   "metadata": {
    "application/vnd.databricks.v1+cell": {
     "cellMetadata": {
      "byteLimit": 2048000,
      "rowLimit": 10000
     },
     "inputWidgets": {},
     "nuid": "45de616f-ef9f-4d9d-9fd7-7ff33ce95167",
     "showTitle": false,
     "title": ""
    }
   },
   "outputs": [
    {
     "output_type": "stream",
     "name": "stdout",
     "output_type": "stream",
     "text": [
      "Thisismybuddy\rloves\rPython\n"
     ]
    }
   ],
   "source": [
    "# to print over and over to the same line in Python, use the carriage return \\r symbol with the end argument.\n",
    "\n",
    "print(\"Thisismybuddy\", end=\"\\r\")\n",
    "print(\"loves\", end=\"\\r\")\n",
    "print(\"Python\")\n",
    "\n",
    "# Even though the first 2 print statements are executed, the carriage returns makes the next stdout line start at the beginning of the current line.\n",
    "\n",
    "# Also, carriage return will only replace the number of characters contained in the print statement. So you have an extra 'mybuddy' at the end."
   ]
  },
  {
   "cell_type": "markdown",
   "metadata": {
    "application/vnd.databricks.v1+cell": {
     "cellMetadata": {},
     "inputWidgets": {},
     "nuid": "c7839e64-1f78-4f0a-8d9e-92fcfb7ff946",
     "showTitle": false,
     "title": ""
    }
   },
   "source": [
    "# 9) Print Pyramid Patterns\n",
    "# 9a) Pyramid Pattern 1\n",
    "![pattern1 image](files/tables/pattern1.png)\n",
    "\n",
    "You can build this pattern by simply using for loops and range.\n"
   ]
  },
  {
   "cell_type": "code",
   "execution_count": 0,
   "metadata": {
    "application/vnd.databricks.v1+cell": {
     "cellMetadata": {
      "byteLimit": 2048000,
      "rowLimit": 10000
     },
     "inputWidgets": {},
     "nuid": "9a94cf17-8d01-4d32-a30a-eebbd2b2f3e0",
     "showTitle": false,
     "title": ""
    }
   },
   "outputs": [
    {
     "output_type": "display_data",
     "data": {
      "text/plain": [
       "give n :  5"
      ]
     },
     "metadata": {},
     "output_type": "display_data"
    },
    {
     "output_type": "stream",
     "name": "stdout",
     "output_type": "stream",
     "text": [
      "\n* \n* * \n* * * \n* * * * \n* * * * * \n* * * * \n* * * \n* * \n* \n"
     ]
    }
   ],
   "source": [
    "n = int(input(\"give n : \"))\n",
    "\n",
    "for i in range(0,n+1):\n",
    "    print(i* ('* '))\n",
    "for i in range(n-1,0,-1):\n",
    "    print(i* ('* '))    \n"
   ]
  },
  {
   "cell_type": "markdown",
   "metadata": {
    "application/vnd.databricks.v1+cell": {
     "cellMetadata": {},
     "inputWidgets": {},
     "nuid": "9a8c171a-6aa5-47fc-82d0-003936c09dde",
     "showTitle": false,
     "title": ""
    }
   },
   "source": [
    "# 9b) Pyramid Pattern 2\n",
    "![img2](files/tables/pattern2.png)\n",
    "\n",
    "You can build a pyramid like this by using center() built-in method and for loops.\n",
    "\n",
    "The center() method will center align the string, using a specified character to fill the missing space on each side. Default is \" \" (space).\n",
    "Syntax --> string.center(length, character)"
   ]
  },
  {
   "cell_type": "code",
   "execution_count": 0,
   "metadata": {
    "application/vnd.databricks.v1+cell": {
     "cellMetadata": {
      "byteLimit": 2048000,
      "rowLimit": 10000
     },
     "inputWidgets": {},
     "nuid": "28d78d3f-27f5-4710-b31a-514dbf555d9e",
     "showTitle": false,
     "title": ""
    }
   },
   "outputs": [
    {
     "output_type": "stream",
     "name": "stdout",
     "output_type": "stream",
     "text": [
      "    *     \n   ***    \n  *****   \n *******  \n********* \n"
     ]
    }
   ],
   "source": [
    "for i in range(1, 10, 2):\n",
    "    x = i*'*'\n",
    "    print(x.center(10))"
   ]
  },
  {
   "cell_type": "markdown",
   "metadata": {
    "application/vnd.databricks.v1+cell": {
     "cellMetadata": {},
     "inputWidgets": {},
     "nuid": "198b7299-54ff-4d75-b136-4214bc15622d",
     "showTitle": false,
     "title": ""
    }
   },
   "source": [
    "# 10) Convert Bytes to String\n",
    "Learn to encode and decode in Python.\n",
    "\n",
    "**Difference between bytes and strings in Python**\n",
    "\n",
    "In Python 3, a string is a sequence of characters. A string can’t be directly stored on disk.\n",
    "A byte string is a sequence of \"bytes\" - things that can be stored on disk. So to store strings, they need to be converted to a byte string.\n",
    "The process of converting a string to a sequence of bytes is called **Encoding**.\n",
    "\n",
    "\n",
    "**How to convert bytes to a string?**\n",
    "\n",
    "**Decoding** is the process to convert bytes back to strings.\n",
    "Python 3 has a **decode()** function that directly converts bytes to strings."
   ]
  },
  {
   "cell_type": "code",
   "execution_count": 0,
   "metadata": {
    "application/vnd.databricks.v1+cell": {
     "cellMetadata": {
      "byteLimit": 2048000,
      "rowLimit": 10000
     },
     "inputWidgets": {},
     "nuid": "6464c2d4-6721-4375-bb27-4c0b6ea4ef79",
     "showTitle": false,
     "title": ""
    }
   },
   "outputs": [
    {
     "output_type": "stream",
     "name": "stdout",
     "output_type": "stream",
     "text": [
      "Good job Pylenin ✅\n"
     ]
    }
   ],
   "source": [
    "byte_string = b'Good job Pylenin \\xE2\\x9C\\x85'.decode(\"utf-8\")\n",
    "\n",
    "print(byte_string)\n",
    "\n",
    "# Here we are using utf-8 encoding format. \n",
    "# There are quite a lot of such encoding formats and you need to know which applies in the particular case in order to make the conversion, since a different encoding might map the same bytes to a different string."
   ]
  },
  {
   "cell_type": "markdown",
   "metadata": {
    "application/vnd.databricks.v1+cell": {
     "cellMetadata": {},
     "inputWidgets": {},
     "nuid": "f843b882-6942-4588-b3ae-a892fc3743f5",
     "showTitle": false,
     "title": ""
    }
   },
   "source": [
    "# 11) Count Occurrences of a given Element in a List\n",
    "-- three ways"
   ]
  },
  {
   "cell_type": "code",
   "execution_count": 0,
   "metadata": {
    "application/vnd.databricks.v1+cell": {
     "cellMetadata": {
      "byteLimit": 2048000,
      "rowLimit": 10000
     },
     "inputWidgets": {},
     "nuid": "39cafe29-a59c-49dd-a5c6-22db2e7369f2",
     "showTitle": false,
     "title": ""
    }
   },
   "outputs": [
    {
     "output_type": "stream",
     "name": "stdout",
     "output_type": "stream",
     "text": [
      "4\n2\n3\n"
     ]
    }
   ],
   "source": [
    "# 11a) Using for loop\n",
    "def get_count1(lst, num):\n",
    "    my_count = 0\n",
    "    for elem in lst:\n",
    "        if (elem == num):\n",
    "            my_count = my_count + 1\n",
    "    return my_count\n",
    "\n",
    "# 11b) Using count function\n",
    "def get_count2(lst, num):\n",
    "    return lst.count(num)\n",
    "\n",
    "# 11c) Using counter function\n",
    "from collections import Counter\n",
    "\n",
    "def get_count3(lst, num):\n",
    "    return Counter(lst)[num]\n",
    "\n",
    "my_list = [2, 9, 5, 7, 2, 3, 5, 4, 5, 3, 6, 3, 7, 3]\n",
    "print(get_count1(my_list,3))\n",
    "print(get_count2(my_list,2))\n",
    "print(get_count3(my_list,5))\n",
    "#get_count1([2, 3, 5, 3, 6, 3, 7, 3],3)\n"
   ]
  },
  {
   "cell_type": "markdown",
   "metadata": {
    "application/vnd.databricks.v1+cell": {
     "cellMetadata": {},
     "inputWidgets": {},
     "nuid": "909e8503-cb71-4728-a86f-6763615a5cfc",
     "showTitle": false,
     "title": ""
    }
   },
   "source": [
    "# 12) find Square Root of both Integer and Complex numbers\n",
    "\n",
    "# 12a) Square root of Positive Numbers"
   ]
  },
  {
   "cell_type": "code",
   "execution_count": 0,
   "metadata": {
    "application/vnd.databricks.v1+cell": {
     "cellMetadata": {
      "byteLimit": 2048000,
      "rowLimit": 10000
     },
     "inputWidgets": {},
     "nuid": "d17b11e9-8e93-42de-b8c9-480822292c28",
     "showTitle": false,
     "title": ""
    }
   },
   "outputs": [
    {
     "output_type": "display_data",
     "data": {
      "text/plain": [
       "Enter a number:  4"
      ]
     },
     "metadata": {},
     "output_type": "display_data"
    },
    {
     "output_type": "stream",
     "name": "stdout",
     "output_type": "stream",
     "text": [
      "Square root of 4 is 2.0\n"
     ]
    }
   ],
   "source": [
    "num = input(\"Enter a number: \")   # 4\n",
    "\n",
    "sqrt_num = float(num) ** 0.5      # num ** 0.5   \n",
    "# since input will be string format, so converting it into float. int() will chop off decimal places\n",
    "print(f\"Square root of {num} is {sqrt_num}\")"
   ]
  },
  {
   "cell_type": "markdown",
   "metadata": {
    "application/vnd.databricks.v1+cell": {
     "cellMetadata": {},
     "inputWidgets": {},
     "nuid": "a4aa4c3d-ef80-45cb-9940-c07fd5ba578c",
     "showTitle": false,
     "title": ""
    }
   },
   "source": [
    "# 12b) Square root of Complex Numbers"
   ]
  },
  {
   "cell_type": "code",
   "execution_count": 0,
   "metadata": {
    "application/vnd.databricks.v1+cell": {
     "cellMetadata": {
      "byteLimit": 2048000,
      "rowLimit": 10000
     },
     "inputWidgets": {},
     "nuid": "0be3bffd-f5ca-4f00-ba49-b7fd6e99141d",
     "showTitle": false,
     "title": ""
    }
   },
   "outputs": [
    {
     "output_type": "stream",
     "name": "stdout",
     "output_type": "stream",
     "text": [
      "Square root of (3+5j) is (2.101303392521568+1.189737764140758j)\n"
     ]
    },
    {
     "output_type": "display_data",
     "data": {
      "text/plain": [
       "Enter a complex number:  44+6j"
      ]
     },
     "metadata": {},
     "output_type": "display_data"
    },
    {
     "output_type": "stream",
     "name": "stdout",
     "output_type": "stream",
     "text": [
      "Square root of (44+6j) is (6.648579044515792+0.4512242360229751j)\n"
     ]
    }
   ],
   "source": [
    "import cmath\n",
    "\n",
    "num = 3+5j         # complex no in python is written as a+bj\n",
    "\n",
    "sqrt_num = cmath.sqrt(num)\n",
    "print(f\"Square root of {num} is {sqrt_num}\")\n",
    "\n",
    "\n",
    "# through user input\n",
    "\n",
    "user_input = input(\"Enter a complex number: \")\n",
    "num = eval(user_input)\n",
    "\n",
    "# Here we are using the eval() built-in function in Python instead of float() to convert the user input string to a complex number.\n",
    "\n",
    "sqrt_num = cmath.sqrt(num)\n",
    "print(f\"Square root of {num} is {sqrt_num}\")"
   ]
  },
  {
   "cell_type": "markdown",
   "metadata": {
    "application/vnd.databricks.v1+cell": {
     "cellMetadata": {},
     "inputWidgets": {},
     "nuid": "e43f9fa1-9f2a-4353-9320-f9315395015a",
     "showTitle": false,
     "title": ""
    }
   },
   "source": [
    "# 13) Convert Degrees to Radians and vice versa.\n",
    "\n",
    "A radian is the measure of the central angle of a circle, whose arc length is the same as the radius of the circle.\n",
    "1 rad = 180 deg/ pi\n",
    "\n",
    "1 radian is equal to 57.3 degrees\n",
    "\n",
    "# 13a) logical method"
   ]
  },
  {
   "cell_type": "code",
   "execution_count": 0,
   "metadata": {
    "application/vnd.databricks.v1+cell": {
     "cellMetadata": {
      "byteLimit": 2048000,
      "rowLimit": 10000
     },
     "inputWidgets": {},
     "nuid": "de7433ac-ffa4-49b8-a8d3-6edbe289eb7b",
     "showTitle": false,
     "title": ""
    }
   },
   "outputs": [
    {
     "output_type": "display_data",
     "data": {
      "text/plain": [
       "Input degrees ==>  5"
      ]
     },
     "metadata": {},
     "output_type": "display_data"
    },
    {
     "output_type": "stream",
     "name": "stdout",
     "output_type": "stream",
     "text": [
      "0.0873015873015873\n"
     ]
    }
   ],
   "source": [
    "pi = 22/7\n",
    "degrees = float(input(\"Input degrees ==> \"))   # 5\n",
    "\n",
    "radians = degrees * pi / 180\n",
    "print(radians)"
   ]
  },
  {
   "cell_type": "markdown",
   "metadata": {
    "application/vnd.databricks.v1+cell": {
     "cellMetadata": {},
     "inputWidgets": {},
     "nuid": "a746e411-c60c-48dc-80db-cd2e7c435bd2",
     "showTitle": false,
     "title": ""
    }
   },
   "source": [
    "# 13b) Using the math module\n",
    "\n",
    "use the degrees and radians functions from the math module.\n",
    "\n",
    "1. Use degrees function to convert radians to degrees.\n",
    "2. Use radians function to convert degrees to radians."
   ]
  },
  {
   "cell_type": "code",
   "execution_count": 0,
   "metadata": {
    "application/vnd.databricks.v1+cell": {
     "cellMetadata": {
      "byteLimit": 2048000,
      "rowLimit": 10000
     },
     "inputWidgets": {},
     "nuid": "25886a05-902a-41c3-9876-643be47f744e",
     "showTitle": false,
     "title": ""
    }
   },
   "outputs": [
    {
     "output_type": "stream",
     "name": "stdout",
     "output_type": "stream",
     "text": [
      "0.0\n90.0\n180.0\n270.0\n360.0\n0.0\n1.5707963267948966\n3.141592653589793\n4.71238898038469\n6.283185307179586\n"
     ]
    }
   ],
   "source": [
    "import math\n",
    "\n",
    "# Converting degrees to radians\n",
    "\n",
    "print(math.degrees(0))                      # 0 radians is equal to 0 degrees\n",
    "\n",
    "print(math.degrees(math.pi/2))              # pi/2 radians is 90 degrees\n",
    "\n",
    "print(math.degrees(math.pi))                # pi radians is 180 degrees\n",
    "\n",
    "print(math.degrees(math.pi+(math.pi/2)))    # pi+pi/2 radians is 270 degrees\n",
    "\n",
    "print(math.degrees(math.pi+math.pi))        # 2*pi radians is 360 degrees   \n",
    "\n",
    "# Converting radians to degrees\n",
    "\n",
    "print(math.radians(0))           # 0 radians\n",
    "print(math.radians(90))          # pi/2\n",
    "print(math.radians(180))         # pi\n",
    "print(math.radians(270))         # pi+pi/2\n",
    "print(math.radians(360))         # 2*pi"
   ]
  },
  {
   "cell_type": "markdown",
   "metadata": {
    "application/vnd.databricks.v1+cell": {
     "cellMetadata": {
      "byteLimit": 2048000,
      "rowLimit": 10000
     },
     "inputWidgets": {},
     "nuid": "4fc3c4aa-a2ba-48d1-a777-530ced85fb56",
     "showTitle": false,
     "title": ""
    }
   },
   "source": [
    "# 14) check if a number is odd or even\n",
    "\n",
    "If a number is divisible by 2, it is even, else, it is odd. You can use the modulus operator % to compute the remainder. If the remainder is not zero, the number is odd."
   ]
  },
  {
   "cell_type": "code",
   "execution_count": 0,
   "metadata": {
    "application/vnd.databricks.v1+cell": {
     "cellMetadata": {
      "byteLimit": 2048000,
      "rowLimit": 10000
     },
     "inputWidgets": {},
     "nuid": "fe635c84-956b-4e18-af79-372319542f89",
     "showTitle": false,
     "title": ""
    }
   },
   "outputs": [
    {
     "output_type": "display_data",
     "data": {
      "text/plain": [
       "Enter a number ==>  13"
      ]
     },
     "metadata": {},
     "output_type": "display_data"
    },
    {
     "output_type": "stream",
     "name": "stdout",
     "output_type": "stream",
     "text": [
      "It is odd\n"
     ]
    }
   ],
   "source": [
    "num = int(input(\"Enter a number ==> \"))   # num = 12\n",
    "\n",
    "if num%2 == 0:\n",
    "    print(\"It is even\")\n",
    "else:\n",
    "    print(\"It is odd\")"
   ]
  },
  {
   "cell_type": "markdown",
   "metadata": {
    "application/vnd.databricks.v1+cell": {
     "cellMetadata": {},
     "inputWidgets": {},
     "nuid": "11dc1903-1fdc-4ed3-b911-0a5b21f1484e",
     "showTitle": false,
     "title": ""
    }
   },
   "source": [
    "# 15) Remove Consecutive Duplicates from a List (3 Ways)\n",
    "\n",
    "input - [1, 2, 4, 7, 6, 6, 3, 7, 7, 8, 4, 4, 9]                                                                                    \n",
    "output - [1, 2, 4, 7, 6, 3, 7, 8, 4, 9]\n",
    "\n",
    "Don't remove all duplicated elements, just eliminate consecutive duplicate elements."
   ]
  },
  {
   "cell_type": "code",
   "execution_count": 0,
   "metadata": {
    "application/vnd.databricks.v1+cell": {
     "cellMetadata": {
      "byteLimit": 2048000,
      "rowLimit": 10000
     },
     "inputWidgets": {},
     "nuid": "724772ea-8458-4748-a736-e685a39c15ba",
     "showTitle": false,
     "title": ""
    }
   },
   "outputs": [
    {
     "output_type": "stream",
     "name": "stdout",
     "output_type": "stream",
     "text": [
      "[1, 2, 4, 7, 6, 3, 7, 8, 4, 9]\n[1, 2, 4, 7, 6, 3, 7, 8, 4, 9]\n[1, 2, 4, 7, 6, 3, 7, 8, 4, 9]\n"
     ]
    }
   ],
   "source": [
    "x =  [1, 2, 4, 7, 6, 6, 3, 7, 7, 8, 4, 4, 9]\n",
    "\n",
    "# 15a) Using FOR loops \n",
    "\n",
    "previous_value = None\n",
    "new_lst = []\n",
    "\n",
    "for elem in x:\n",
    "   if elem != previous_value:\n",
    "       new_lst.append(elem)\n",
    "       previous_value = elem\n",
    "\n",
    "print(new_lst)\n",
    "\n",
    "# 15b) Using Enumerate   --  One-liner solution to the problem.\n",
    "\n",
    "print([v for i, v in enumerate(x) if i == 0 or v != x[i-1]])\n",
    "\n",
    "# 15c) Using the itertools library\n",
    "\n",
    "from itertools import groupby\n",
    "\n",
    "print([i[0] for i in groupby(x)])\n",
    "\n",
    "# Using the time and matplotlib library, the time taken for each method was plotted and it presented that the 3rd approach (using the itertools library) is the fastest of all the 3 ways shared here."
   ]
  },
  {
   "cell_type": "markdown",
   "metadata": {
    "application/vnd.databricks.v1+cell": {
     "cellMetadata": {
      "byteLimit": 2048000,
      "rowLimit": 10000
     },
     "inputWidgets": {},
     "nuid": "13dbacf7-33b2-4553-be9e-78503035065d",
     "showTitle": false,
     "title": ""
    }
   },
   "source": [
    "# 16) Remove Duplicates from a list"
   ]
  },
  {
   "cell_type": "code",
   "execution_count": 0,
   "metadata": {
    "application/vnd.databricks.v1+cell": {
     "cellMetadata": {
      "byteLimit": 2048000,
      "rowLimit": 10000
     },
     "inputWidgets": {},
     "nuid": "0d687443-c3ff-4963-9df5-33f8d8f459cf",
     "showTitle": false,
     "title": ""
    }
   },
   "outputs": [
    {
     "output_type": "stream",
     "name": "stdout",
     "output_type": "stream",
     "text": [
      "[10, 20, 30, 40, 50, 60]\n[40, 10, 50, 20, 60, 30]\n"
     ]
    }
   ],
   "source": [
    "my_list = [10, 20, 30, 40, 50, 60, 30]\n",
    "\n",
    "# 16a) Using a FOR loop\n",
    "\n",
    "result_list = []\n",
    "\n",
    "for i in my_list:\n",
    "    if i not in result_list:\n",
    "        result_list.append(i)\n",
    "    else:\n",
    "        continue\n",
    "\n",
    "print(result_list)\n",
    "\n",
    "# 16b) Using Sets\n",
    "\n",
    "# A set data type cannot store duplicates. So you can also use this method to remove duplicates from a list.\n",
    "# However, the set() will change the order of the elements in the list.\n",
    "\n",
    "print(list(set(my_list)))"
   ]
  },
  {
   "cell_type": "markdown",
   "metadata": {
    "application/vnd.databricks.v1+cell": {
     "cellMetadata": {
      "byteLimit": 2048000,
      "rowLimit": 10000
     },
     "inputWidgets": {},
     "nuid": "efb45987-a746-4b27-89f4-d930e265cccb",
     "showTitle": false,
     "title": ""
    }
   },
   "source": [
    "# 17) Find Duplicate Characters in a Python String (4 ways)\n",
    "\n",
    "Given a string with a length greater than 0, write a function find_duplicates() to find all the duplicate characters in a string."
   ]
  },
  {
   "cell_type": "code",
   "execution_count": 0,
   "metadata": {
    "application/vnd.databricks.v1+cell": {
     "cellMetadata": {
      "byteLimit": 2048000,
      "rowLimit": 10000
     },
     "inputWidgets": {},
     "nuid": "a9445ff6-2235-4f96-bb44-3adc982cce68",
     "showTitle": false,
     "title": ""
    }
   },
   "outputs": [
    {
     "output_type": "stream",
     "name": "stdout",
     "output_type": "stream",
     "text": [
      "['l']\n['p', 'o']\n[]\n['l']\n['p', 'o']\n[]\n"
     ]
    }
   ],
   "source": [
    "# 17a) Using For loop - Loops over all the elements in the string and stores the number of times each element occurs. \n",
    "\n",
    "def find_duplicates1(str1):\n",
    "    elements = {}\n",
    "    for char in str1:\n",
    "        if elements.get(char,None) != None:\n",
    "            elements[char]+=1\n",
    "        else:\n",
    "            elements[char] = 1\n",
    "    return [k for k,v in elements.items() if v>1]\n",
    "\n",
    "print(find_duplicates1(\"Hello\"))\n",
    "print(find_duplicates1(\"Hippopotamus\"))\n",
    "print(find_duplicates1(\"Python\"))\n",
    "\n",
    "# 17b) Using the Collections library's Counter method. This method reduces the above code to merely a few lines.\n",
    "\n",
    "from collections import Counter\n",
    "\n",
    "def find_duplicates2(str1):\n",
    "    elements = Counter(str1)\n",
    "    return [k for k,v in elements.items() if v>1]\n",
    "\n",
    "print(find_duplicates2(\"Hello\"))\n",
    "print(find_duplicates2(\"Hippopotamus\"))\n",
    "print(find_duplicates2(\"Python\"))"
   ]
  },
  {
   "cell_type": "code",
   "execution_count": 0,
   "metadata": {
    "application/vnd.databricks.v1+cell": {
     "cellMetadata": {
      "byteLimit": 2048000,
      "rowLimit": 10000
     },
     "inputWidgets": {},
     "nuid": "ff2f7a6c-b87f-45e3-8c09-838454f8d48b",
     "showTitle": false,
     "title": ""
    }
   },
   "outputs": [
    {
     "output_type": "stream",
     "name": "stdout",
     "output_type": "stream",
     "text": [
      "['a', 'p', ' ', 'i']\n{'l', 'o'}\n"
     ]
    }
   ],
   "source": [
    "# 17c) Using Count()    ////////////////////////////////////////////////\n",
    "\n",
    "def find_dup3(text):\n",
    "    dict1={}\n",
    "    for i in text: \n",
    "        dict1[i]=text.count(i) \n",
    "  # print([c for c in dict1 if text.count(c)>1])\n",
    "    print([k for k,v in dict1.items() if v>1])\n",
    "\n",
    "find_dup3(\"apple is a fruit\")\n",
    "\n",
    "# 17d) Using sets            /////////////////////////////////////////////////////////////\n",
    "\n",
    "def find_dup4(text):\n",
    "    arr=[]\n",
    "    s=set()\n",
    "    for ch in text: \n",
    "        if ch in arr: \n",
    "            s.add(ch) \n",
    "          # print(\"arr : \",arr)\n",
    "          # print(\"set s : \",s)\n",
    "        else: \n",
    "            arr.append(ch)\n",
    "          # print(\"arr after append: \",arr)\n",
    "    print(s)                           # this prints duplicate characters\n",
    "  # print(''.join(arr))                # this prints string after removing duplicate characters\n",
    "\n",
    "find_dup4(\"helloworld\") "
   ]
  },
  {
   "cell_type": "markdown",
   "metadata": {
    "application/vnd.databricks.v1+cell": {
     "cellMetadata": {},
     "inputWidgets": {},
     "nuid": "05278bab-ce33-450c-952a-e6c7f717c7d5",
     "showTitle": false,
     "title": ""
    }
   },
   "source": [
    "# 18) Remove Duplicate characters from a String\n"
   ]
  },
  {
   "cell_type": "code",
   "execution_count": 0,
   "metadata": {
    "application/vnd.databricks.v1+cell": {
     "cellMetadata": {
      "byteLimit": 2048000,
      "rowLimit": 10000
     },
     "inputWidgets": {},
     "nuid": "a2f0176e-5d63-4732-931e-f630d728d8d6",
     "showTitle": false,
     "title": ""
    }
   },
   "outputs": [
    {
     "output_type": "stream",
     "name": "stdout",
     "output_type": "stream",
     "text": [
      "abcABC\nabcABC\nbaBcCA\nabcABC\n"
     ]
    }
   ],
   "source": [
    "mystring=\"aabbcABccCbaa\"\n",
    "\n",
    "# 18a) simplest method\n",
    "\n",
    "new_str=\"\"\n",
    "for x in mystring:\n",
    "    if x not in new_str:\n",
    "        new_str += x        # .append(x) is a list method \n",
    "print(new_str)        \n",
    "\n",
    "# 18b) using list methods (append)\n",
    "\n",
    "new_lst=[]\n",
    "for x in mystring:\n",
    "    if x not in new_lst:\n",
    "        new_lst.append(x)\n",
    "print(''.join(new_lst))\n",
    "\n",
    "# 18c)  using set()\n",
    "   \n",
    "newstring1 = set(mystring)\n",
    "print(''.join(newstring1))    # NOTE: order of characters will be lost using set() method\n",
    "\n",
    "# 18d) using index() function for string\n",
    "counter=0\n",
    "new_str=\"\"\n",
    "for i in mystring:\n",
    "    if mystring.index(i)==counter:   # index() function always returns the first occurence of the char i in the string mystring.\n",
    "        new_str+=i\n",
    "    counter+=1\n",
    "print(new_str)    "
   ]
  },
  {
   "cell_type": "markdown",
   "metadata": {
    "application/vnd.databricks.v1+cell": {
     "cellMetadata": {},
     "inputWidgets": {},
     "nuid": "9918615d-8167-4a94-a12d-04e594c252a1",
     "showTitle": false,
     "title": ""
    }
   },
   "source": [
    "# 19) Extract INT type values from a list of heterogeneous elements"
   ]
  },
  {
   "cell_type": "code",
   "execution_count": 0,
   "metadata": {
    "application/vnd.databricks.v1+cell": {
     "cellMetadata": {
      "byteLimit": 2048000,
      "rowLimit": 10000
     },
     "inputWidgets": {},
     "nuid": "37246283-fefa-407b-981a-b86639b4b07b",
     "showTitle": false,
     "title": ""
    }
   },
   "outputs": [
    {
     "output_type": "stream",
     "name": "stdout",
     "output_type": "stream",
     "text": [
      "[10, 30, 40, 55]\n"
     ]
    }
   ],
   "source": [
    "mylst = [10, 'a+bj', \"apple\", 11.56, 30, 'apple43', 40, 55]\n",
    "new_lst=[]\n",
    "for i in mylst:\n",
    "    if type(i) == int:\n",
    "        new_lst.append(i)\n",
    "print(new_lst)        "
   ]
  },
  {
   "cell_type": "markdown",
   "metadata": {
    "application/vnd.databricks.v1+cell": {
     "cellMetadata": {},
     "inputWidgets": {},
     "nuid": "f62e1a2d-6292-4977-ad22-285dd6decbe1",
     "showTitle": false,
     "title": ""
    }
   },
   "source": [
    "# 20) Find The Second Most Repeated Word in a Given String"
   ]
  },
  {
   "cell_type": "code",
   "execution_count": 0,
   "metadata": {
    "application/vnd.databricks.v1+cell": {
     "cellMetadata": {
      "byteLimit": 2048000,
      "rowLimit": 10000
     },
     "inputWidgets": {},
     "nuid": "015c6fbb-e347-4e85-82f8-f5ea50e31d08",
     "showTitle": false,
     "title": ""
    }
   },
   "outputs": [
    {
     "output_type": "display_data",
     "data": {
      "text/plain": [
       "Enter a String :  Ravi had been saying that he had been there"
      ]
     },
     "metadata": {},
     "output_type": "display_data"
    },
    {
     "output_type": "stream",
     "name": "stdout",
     "output_type": "stream",
     "text": [
      "['had', 'been', 'Ravi', 'saying', 'that', 'he', 'there']\nThe Second Most Repeated Word in a Given String :  had\n"
     ]
    }
   ],
   "source": [
    "text = input(\"Enter a String : \")\n",
    "words = text.split(\" \")\n",
    "\n",
    "freq = dict()\n",
    "for word in words:\n",
    "    if word in freq:\n",
    "        freq[word] += 1\n",
    "    else:\n",
    "        freq[word] = 1\n",
    "\n",
    "\n",
    "freq_list = sorted(freq, key=freq.get, reverse=True)\n",
    "\n",
    "# freq_list[1] will give second element from the list\n",
    "print(freq_list)\n",
    "print(\"The Second Most Repeated Word in a Given String : \", freq_list[0])\n"
   ]
  },
  {
   "cell_type": "markdown",
   "metadata": {
    "application/vnd.databricks.v1+cell": {
     "cellMetadata": {},
     "inputWidgets": {},
     "nuid": "ff404cd7-3872-4c78-845d-5c4a3fffa68c",
     "showTitle": false,
     "title": ""
    }
   },
   "source": [
    "# 21) Find First Non-Repeating Character in a String"
   ]
  },
  {
   "cell_type": "code",
   "execution_count": 0,
   "metadata": {
    "application/vnd.databricks.v1+cell": {
     "cellMetadata": {
      "byteLimit": 2048000,
      "rowLimit": 10000
     },
     "inputWidgets": {},
     "nuid": "5d9dc04b-b0ee-40e3-b897-048a9424512f",
     "showTitle": false,
     "title": ""
    }
   },
   "outputs": [
    {
     "output_type": "display_data",
     "data": {
      "text/plain": [
       "Provide string:  helloworld"
      ]
     },
     "metadata": {},
     "output_type": "display_data"
    },
    {
     "output_type": "stream",
     "name": "stdout",
     "output_type": "stream",
     "text": [
      "First Non-Repeating Character =  h\n"
     ]
    }
   ],
   "source": [
    "inputstr = input(\"Provide string: \")\n",
    "def firstNonRepeatingChar(inputstr):\n",
    "    counts={}\n",
    "    for x in inputstr:\n",
    "        counts[x] = counts.get(x,0) + 1\n",
    "    #print(counts)\n",
    "\n",
    "    for i in inputstr:\n",
    "        if counts[i]==1:\n",
    "            return i\n",
    "    return None\n",
    "\n",
    "# print([i for i in inputstr if counts[i]==1])    # this prints all characters with occurence=1\n",
    "print(\"First Non-Repeating Character = \", firstNonRepeatingChar(inputstr))"
   ]
  },
  {
   "cell_type": "markdown",
   "metadata": {
    "application/vnd.databricks.v1+cell": {
     "cellMetadata": {},
     "inputWidgets": {},
     "nuid": "c2f8d3dc-ee68-41e0-9f0c-b73c0c363785",
     "showTitle": false,
     "title": ""
    }
   },
   "source": [
    "# 22) Return the N largest or smallest elements using the heapq module\n",
    "\n",
    "x = [1, 3, 7, 21, -90, 67, 42, 12]\n",
    "\n",
    "# 22a) logical(simplest) way\n",
    "Scan the whole list and find the maximum value at the current state. Then append it to a new list and remove the value from the original list. Continue this process for as many (N) numbers as you want."
   ]
  },
  {
   "cell_type": "code",
   "execution_count": 0,
   "metadata": {
    "application/vnd.databricks.v1+cell": {
     "cellMetadata": {
      "byteLimit": 2048000,
      "rowLimit": 10000
     },
     "inputWidgets": {},
     "nuid": "5da08e67-3313-4d69-a73c-f45e95a53d1a",
     "showTitle": false,
     "title": ""
    }
   },
   "outputs": [
    {
     "output_type": "stream",
     "name": "stdout",
     "output_type": "stream",
     "text": [
      "[67, 42]\n[-90, 1]\n"
     ]
    }
   ],
   "source": [
    "x = [1, 3, 7, 21, -90, 67, 42, 12]\n",
    "result_lst = list()\n",
    "\n",
    "def max_finder(lst, N):\n",
    "    while N > 0:\n",
    "        max_value = max(lst)\n",
    "        result_lst.append(max_value)\n",
    "        lst.remove(max_value)\n",
    "        N-=1\n",
    "    return result_lst\n",
    "\n",
    "print(max_finder(x, 2))\n",
    "\n",
    "# This will return the 2 largest elements in the python list.\n",
    "\n",
    "def min_finder(lst, N):\n",
    "    result_lst = list()\n",
    "    while N > 0:\n",
    "        min_value = min(lst)\n",
    "        result_lst.append(min_value)\n",
    "        lst.remove(min_value)\n",
    "        N-=1\n",
    "    return result_lst\n",
    "\n",
    "print(min_finder(x, 2))\n",
    "\n",
    "# This will return the 2 smallest elements in the python list."
   ]
  },
  {
   "cell_type": "markdown",
   "metadata": {
    "application/vnd.databricks.v1+cell": {
     "cellMetadata": {
      "byteLimit": 2048000,
      "rowLimit": 10000
     },
     "inputWidgets": {},
     "nuid": "ee29898c-7df0-4eb9-ab44-82fd4f83f5a9",
     "showTitle": false,
     "title": ""
    }
   },
   "source": [
    "# 22b) using Python heapq module\n",
    "\n",
    "we can use the **nlargest** and the **nsmallest** functions respectively from the heapq module."
   ]
  },
  {
   "cell_type": "code",
   "execution_count": 0,
   "metadata": {
    "application/vnd.databricks.v1+cell": {
     "cellMetadata": {
      "byteLimit": 2048000,
      "rowLimit": 10000
     },
     "inputWidgets": {},
     "nuid": "3ef51ed1-39d1-467d-b83f-48455b61d514",
     "showTitle": false,
     "title": ""
    }
   },
   "outputs": [
    {
     "output_type": "stream",
     "name": "stdout",
     "output_type": "stream",
     "text": [
      "[67, 42]\n[-90, 1]\n[(499, 'Compaq'), (530, 'Dell')]\n[(999, 'Apple'), (750, 'HP')]\n"
     ]
    }
   ],
   "source": [
    "import heapq\n",
    "\n",
    "x = [1, 3, 7, 21, -90, 67, 42, 12]\n",
    "\n",
    "print(heapq.nlargest(2, x))\n",
    "\n",
    "print(heapq.nsmallest(2, x))\n",
    "\n",
    "# using heapq for dictionary  -- have to pass in a key parameter inside the heapq methods.\n",
    "laptop_costs = {'Compaq':499, 'Dell':530, 'Apple':999, 'HP':750, 'ASUS':650}\n",
    "\n",
    "# The 2 cheapest laptops\n",
    "key_values = zip(laptop_costs.values(), laptop_costs.keys())\n",
    "print(heapq.nsmallest(2, key_values))\n",
    "\n",
    "# key_values = zip(laptop_costs.values(), laptop_costs.keys())       \n",
    "# print(list(key_values))\n",
    "\n",
    "# The 2 expensive laptops\n",
    "key_values = zip(laptop_costs.values(), laptop_costs.keys())\n",
    "print(heapq.nlargest(2, key_values))"
   ]
  },
  {
   "cell_type": "markdown",
   "metadata": {
    "application/vnd.databricks.v1+cell": {
     "cellMetadata": {},
     "inputWidgets": {},
     "nuid": "d5076f44-063c-4f0c-8207-da27f451c33b",
     "showTitle": false,
     "title": ""
    }
   },
   "source": [
    "# 23) Find the No of Ways to Express a Natural No N as a Sum of two or more Consecutive Natural Nos\n",
    "N = No as result of the sum of the consec natural nos                                                                            \n",
    "a = first no of the series                                                                                                       \n",
    "n = no of numbers in the series                                                                                             \n",
    "series will be like : a, a+1, a+2,...........,a+n-1                                                                           \n",
    "This is an AP such that N = (a + a+n-1)*n/2  \n",
    "since N is already known, we need to find a for each value of n, hence  a = (2N+n-n^2)/2n                                        \n",
    "a is a natural no, +ve so RHS also needs to be positive\n",
    "\n",
    "Algorithm\n",
    "no of consecutive nos - 2 or more\n",
    "steps:\n",
    "1. start with n\n",
    "2. loop until (2N+n-n^2) is +ve\n",
    "3. For a given value of n, if 'a' is a natural no then count it as one possibility\n"
   ]
  },
  {
   "cell_type": "code",
   "execution_count": 0,
   "metadata": {
    "application/vnd.databricks.v1+cell": {
     "cellMetadata": {
      "byteLimit": 2048000,
      "rowLimit": 10000
     },
     "inputWidgets": {},
     "nuid": "f880168a-6fc2-4f04-b51e-dfc42f4b423a",
     "showTitle": false,
     "title": ""
    }
   },
 {
 "metadata": {
  "application/vnd.databricks.v1+notebook": {
   "dashboards": [],
   "language": "python",
   "notebookMetadata": {
    "pythonIndentUnit": 4
   },
   "notebookName": "short practice problems",
   "widgets": {}
  }
 },
 "nbformat": 4,
 "nbformat_minor": 0
}
